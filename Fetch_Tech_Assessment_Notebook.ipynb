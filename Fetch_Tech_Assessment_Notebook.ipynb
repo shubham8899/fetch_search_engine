{
  "cells": [
    {
      "cell_type": "markdown",
      "metadata": {
        "id": "-_RbuoFhTymm"
      },
      "source": [
        "## Imports"
      ]
    },
    {
      "cell_type": "code",
      "execution_count": 2,
      "metadata": {
        "id": "C5R-jojTJLii"
      },
      "outputs": [],
      "source": [
        "from txtai import Embeddings\n",
        "import pandas as pd"
      ]
    },
    {
      "cell_type": "markdown",
      "metadata": {
        "id": "Kf77oIWGNFwq"
      },
      "source": [
        "## Create Merged Dataset"
      ]
    },
    {
      "cell_type": "code",
      "execution_count": 3,
      "metadata": {
        "id": "oy8eXNy6hO8i"
      },
      "outputs": [],
      "source": [
        "def preprocess_column(column):\n",
        "    column = column.astype(str).str.lower()\n",
        "    column = column.str.replace(r'-', ' ', regex=True)\n",
        "    column = column.str.replace(r'[^a-z0-9\\s]', '', regex=True)\n",
        "    column = column.str.replace(r'\\s+', ' ', regex=True)\n",
        "    column = column.str.strip()\n",
        "    return column"
      ]
    },
    {
      "cell_type": "code",
      "execution_count": 5,
      "metadata": {
        "id": "6-5FETUpdUOS"
      },
      "outputs": [],
      "source": [
        "df_categories = pd.read_csv('DATA/categories.csv')\n",
        "df_brands = pd.read_csv('DATA/brand_category.csv')\n",
        "df_offers = pd.read_csv('DATA/offer_retailer.csv')"
      ]
    },
    {
      "cell_type": "code",
      "execution_count": 6,
      "metadata": {
        "id": "1gEXQaj1dUng"
      },
      "outputs": [],
      "source": [
        "df_categories.drop('CATEGORY_ID', axis=1, inplace=True)\n",
        "df_categories = df_categories.rename(columns={'PRODUCT_CATEGORY': 'CATEGORY', 'IS_CHILD_CATEGORY_TO':'PARENT_CATEGORY'})"
      ]
    },
    {
      "cell_type": "code",
      "execution_count": 7,
      "metadata": {
        "id": "nLzMtrkahQTO"
      },
      "outputs": [],
      "source": [
        "df_categories['CATEGORY'] = preprocess_column(df_categories['CATEGORY'])\n",
        "df_categories['PARENT_CATEGORY'] = preprocess_column(df_categories['PARENT_CATEGORY'])"
      ]
    },
    {
      "cell_type": "code",
      "execution_count": 8,
      "metadata": {
        "id": "1eBTDZWTgPvy"
      },
      "outputs": [],
      "source": [
        "df_brands.drop('RECEIPTS', axis=1, inplace=True)\n",
        "df_brands = df_brands.rename(columns={'BRAND_BELONGS_TO_CATEGORY':'CATEGORY'})"
      ]
    },
    {
      "cell_type": "code",
      "execution_count": 9,
      "metadata": {
        "id": "DggpqVhshd5C"
      },
      "outputs": [],
      "source": [
        "df_brands['BRAND'] = preprocess_column(df_brands['BRAND'])\n",
        "df_brands['CATEGORY'] = preprocess_column(df_brands['CATEGORY'])"
      ]
    },
    {
      "cell_type": "code",
      "execution_count": 10,
      "metadata": {
        "id": "6VmIqdoJhoBv"
      },
      "outputs": [],
      "source": [
        "df_offers['BRAND'] = preprocess_column(df_offers['BRAND'])\n",
        "df_offers['RETAILER'] = preprocess_column(df_offers['RETAILER'])\n",
        "df_offers['OFFER_PREPROCESSED'] = preprocess_column(df_offers['OFFER'])"
      ]
    },
    {
      "cell_type": "code",
      "execution_count": 11,
      "metadata": {
        "id": "M6mZupAniWIO"
      },
      "outputs": [],
      "source": [
        "dataset = pd.merge(df_categories, df_brands, on='CATEGORY', how='outer')"
      ]
    },
    {
      "cell_type": "code",
      "execution_count": 12,
      "metadata": {
        "id": "PICNvf2gjK_f"
      },
      "outputs": [],
      "source": [
        "dataset = pd.merge(dataset, df_offers, on='BRAND', how='outer')"
      ]
    },
    {
      "cell_type": "code",
      "execution_count": 13,
      "metadata": {
        "id": "DP7JmIUoUPYJ"
      },
      "outputs": [],
      "source": [
        "dataset = dataset.drop_duplicates().reset_index(drop=True)"
      ]
    },
    {
      "cell_type": "code",
      "execution_count": 14,
      "metadata": {
        "id": "8v9XmvrfqWqh"
      },
      "outputs": [],
      "source": [
        "dataset = dataset.dropna(subset=['OFFER'])"
      ]
    },
    {
      "cell_type": "code",
      "execution_count": 15,
      "metadata": {
        "id": "ekr1f3mDqbYj"
      },
      "outputs": [],
      "source": [
        "dataset = dataset.reset_index(drop=True)"
      ]
    },
    {
      "cell_type": "code",
      "execution_count": 16,
      "metadata": {
        "colab": {
          "base_uri": "https://localhost:8080/",
          "height": 580
        },
        "id": "vzo0jm18N7NK",
        "outputId": "40c2f57a-06d8-496a-a179-768e91accd69"
      },
      "outputs": [
        {
          "data": {
            "text/html": [
              "<div>\n",
              "<style scoped>\n",
              "    .dataframe tbody tr th:only-of-type {\n",
              "        vertical-align: middle;\n",
              "    }\n",
              "\n",
              "    .dataframe tbody tr th {\n",
              "        vertical-align: top;\n",
              "    }\n",
              "\n",
              "    .dataframe thead th {\n",
              "        text-align: right;\n",
              "    }\n",
              "</style>\n",
              "<table border=\"1\" class=\"dataframe\">\n",
              "  <thead>\n",
              "    <tr style=\"text-align: right;\">\n",
              "      <th></th>\n",
              "      <th>CATEGORY</th>\n",
              "      <th>PARENT_CATEGORY</th>\n",
              "      <th>BRAND</th>\n",
              "      <th>OFFER</th>\n",
              "      <th>RETAILER</th>\n",
              "      <th>OFFER_PREPROCESSED</th>\n",
              "    </tr>\n",
              "  </thead>\n",
              "  <tbody>\n",
              "    <tr>\n",
              "      <th>0</th>\n",
              "      <td>red pasta sauce</td>\n",
              "      <td>pasta sauce</td>\n",
              "      <td>barilla</td>\n",
              "      <td>Barilla® Pesto Sauce</td>\n",
              "      <td>nan</td>\n",
              "      <td>barilla pesto sauce</td>\n",
              "    </tr>\n",
              "    <tr>\n",
              "      <th>1</th>\n",
              "      <td>red pasta sauce</td>\n",
              "      <td>pasta sauce</td>\n",
              "      <td>barilla</td>\n",
              "      <td>Barilla® Pasta, select varieties, buy 2</td>\n",
              "      <td>nan</td>\n",
              "      <td>barilla pasta select varieties buy 2</td>\n",
              "    </tr>\n",
              "    <tr>\n",
              "      <th>2</th>\n",
              "      <td>red pasta sauce</td>\n",
              "      <td>pasta sauce</td>\n",
              "      <td>barilla</td>\n",
              "      <td>Barilla® pasta, select varieties, buy 3</td>\n",
              "      <td>nan</td>\n",
              "      <td>barilla pasta select varieties buy 3</td>\n",
              "    </tr>\n",
              "    <tr>\n",
              "      <th>3</th>\n",
              "      <td>red pasta sauce</td>\n",
              "      <td>pasta sauce</td>\n",
              "      <td>barilla</td>\n",
              "      <td>Barilla® pasta, select varieties, buy 4</td>\n",
              "      <td>nan</td>\n",
              "      <td>barilla pasta select varieties buy 4</td>\n",
              "    </tr>\n",
              "    <tr>\n",
              "      <th>4</th>\n",
              "      <td>red pasta sauce</td>\n",
              "      <td>pasta sauce</td>\n",
              "      <td>barilla</td>\n",
              "      <td>Barilla® pasta, select varieties, buy 2</td>\n",
              "      <td>nan</td>\n",
              "      <td>barilla pasta select varieties buy 2</td>\n",
              "    </tr>\n",
              "    <tr>\n",
              "      <th>...</th>\n",
              "      <td>...</td>\n",
              "      <td>...</td>\n",
              "      <td>...</td>\n",
              "      <td>...</td>\n",
              "      <td>...</td>\n",
              "      <td>...</td>\n",
              "    </tr>\n",
              "    <tr>\n",
              "      <th>839</th>\n",
              "      <td>NaN</td>\n",
              "      <td>NaN</td>\n",
              "      <td>dickeys barbecue pit</td>\n",
              "      <td>Spend $40 at Dickey's Barbecue Pit</td>\n",
              "      <td>dickeys barbecue pit</td>\n",
              "      <td>spend 40 at dickeys barbecue pit</td>\n",
              "    </tr>\n",
              "    <tr>\n",
              "      <th>840</th>\n",
              "      <td>NaN</td>\n",
              "      <td>NaN</td>\n",
              "      <td>oxiclean</td>\n",
              "      <td>OxiClean™ Laundry Stain Removers, select varie...</td>\n",
              "      <td>walmart</td>\n",
              "      <td>oxiclean laundry stain removers select varieti...</td>\n",
              "    </tr>\n",
              "    <tr>\n",
              "      <th>841</th>\n",
              "      <td>NaN</td>\n",
              "      <td>NaN</td>\n",
              "      <td>squirrel</td>\n",
              "      <td>Squirrel, The Bedside Perch, online at Amazon</td>\n",
              "      <td>amazon</td>\n",
              "      <td>squirrel the bedside perch online at amazon</td>\n",
              "    </tr>\n",
              "    <tr>\n",
              "      <th>842</th>\n",
              "      <td>NaN</td>\n",
              "      <td>NaN</td>\n",
              "      <td>persil</td>\n",
              "      <td>Persil® ProClean®, select varieties, at Walmart</td>\n",
              "      <td>walmart</td>\n",
              "      <td>persil proclean select varieties at walmart</td>\n",
              "    </tr>\n",
              "    <tr>\n",
              "      <th>843</th>\n",
              "      <td>NaN</td>\n",
              "      <td>NaN</td>\n",
              "      <td>chewy</td>\n",
              "      <td>Spend $50 at Chewy.com</td>\n",
              "      <td>chewy</td>\n",
              "      <td>spend 50 at chewycom</td>\n",
              "    </tr>\n",
              "  </tbody>\n",
              "</table>\n",
              "<p>844 rows × 6 columns</p>\n",
              "</div>"
            ],
            "text/plain": [
              "            CATEGORY PARENT_CATEGORY                 BRAND  \\\n",
              "0    red pasta sauce     pasta sauce               barilla   \n",
              "1    red pasta sauce     pasta sauce               barilla   \n",
              "2    red pasta sauce     pasta sauce               barilla   \n",
              "3    red pasta sauce     pasta sauce               barilla   \n",
              "4    red pasta sauce     pasta sauce               barilla   \n",
              "..               ...             ...                   ...   \n",
              "839              NaN             NaN  dickeys barbecue pit   \n",
              "840              NaN             NaN              oxiclean   \n",
              "841              NaN             NaN              squirrel   \n",
              "842              NaN             NaN                persil   \n",
              "843              NaN             NaN                 chewy   \n",
              "\n",
              "                                                 OFFER              RETAILER  \\\n",
              "0                                 Barilla® Pesto Sauce                   nan   \n",
              "1              Barilla® Pasta, select varieties, buy 2                   nan   \n",
              "2              Barilla® pasta, select varieties, buy 3                   nan   \n",
              "3              Barilla® pasta, select varieties, buy 4                   nan   \n",
              "4              Barilla® pasta, select varieties, buy 2                   nan   \n",
              "..                                                 ...                   ...   \n",
              "839                 Spend $40 at Dickey's Barbecue Pit  dickeys barbecue pit   \n",
              "840  OxiClean™ Laundry Stain Removers, select varie...               walmart   \n",
              "841      Squirrel, The Bedside Perch, online at Amazon                amazon   \n",
              "842    Persil® ProClean®, select varieties, at Walmart               walmart   \n",
              "843                             Spend $50 at Chewy.com                 chewy   \n",
              "\n",
              "                                    OFFER_PREPROCESSED  \n",
              "0                                  barilla pesto sauce  \n",
              "1                 barilla pasta select varieties buy 2  \n",
              "2                 barilla pasta select varieties buy 3  \n",
              "3                 barilla pasta select varieties buy 4  \n",
              "4                 barilla pasta select varieties buy 2  \n",
              "..                                                 ...  \n",
              "839                   spend 40 at dickeys barbecue pit  \n",
              "840  oxiclean laundry stain removers select varieti...  \n",
              "841        squirrel the bedside perch online at amazon  \n",
              "842        persil proclean select varieties at walmart  \n",
              "843                               spend 50 at chewycom  \n",
              "\n",
              "[844 rows x 6 columns]"
            ]
          },
          "execution_count": 16,
          "metadata": {},
          "output_type": "execute_result"
        }
      ],
      "source": [
        "dataset"
      ]
    },
    {
      "cell_type": "code",
      "execution_count": 17,
      "metadata": {
        "id": "zNQfxAp3kIaL"
      },
      "outputs": [],
      "source": [
        "dataset.to_csv('dataset.csv')"
      ]
    },
    {
      "cell_type": "markdown",
      "metadata": {
        "id": "cKH56drzNrE6"
      },
      "source": [
        "## Convert Merged Dataset to Embeddings"
      ]
    },
    {
      "cell_type": "code",
      "execution_count": 18,
      "metadata": {
        "id": "YxsO8EUMN0_g"
      },
      "outputs": [],
      "source": [
        "dataset = pd.read_csv('dataset.csv', index_col=0)"
      ]
    },
    {
      "cell_type": "code",
      "execution_count": 20,
      "metadata": {
        "id": "ORSIbgw_N2Nq"
      },
      "outputs": [],
      "source": [
        "# dataset"
      ]
    },
    {
      "cell_type": "code",
      "execution_count": 21,
      "metadata": {
        "id": "6n4rrQbVOY1k"
      },
      "outputs": [],
      "source": [
        "dataset_concatenated = []\n",
        "\n",
        "# Iterate through each row in the DataFrame\n",
        "for index, row in dataset.iterrows():\n",
        "    # Create a list of non-NaN elements in the row\n",
        "    # non_nan_elements = [str(element) for element in row if not pd.isna(element)]\n",
        "    non_nan_elements = [str(element) for column, element in row.items() if column != 'OFFER' and not pd.isna(element)]\n",
        "\n",
        "\n",
        "    # Concatenate the non-NaN elements in the row to create a single string\n",
        "    concatenated_row = ' '.join(non_nan_elements)\n",
        "\n",
        "    # Append the concatenated row to the list\n",
        "    dataset_concatenated.append(concatenated_row)"
      ]
    },
    {
      "cell_type": "code",
      "execution_count": 22,
      "metadata": {
        "colab": {
          "base_uri": "https://localhost:8080/"
        },
        "id": "BlYUxwF2OkPd",
        "outputId": "c1462eec-f56d-4943-f63f-478cbfa2779c"
      },
      "outputs": [
        {
          "data": {
            "text/plain": [
              "844"
            ]
          },
          "execution_count": 22,
          "metadata": {},
          "output_type": "execute_result"
        }
      ],
      "source": [
        "len(dataset_concatenated)"
      ]
    },
    {
      "cell_type": "code",
      "execution_count": 24,
      "metadata": {},
      "outputs": [
        {
          "data": {
            "text/plain": [
              "CATEGORY                       cooking baking\n",
              "PARENT_CATEGORY                        pantry\n",
              "BRAND                               pavilions\n",
              "OFFER                 Spend $270 at Pavilions\n",
              "RETAILER                            pavilions\n",
              "OFFER_PREPROCESSED     spend 270 at pavilions\n",
              "Name: 343, dtype: object"
            ]
          },
          "execution_count": 24,
          "metadata": {},
          "output_type": "execute_result"
        }
      ],
      "source": [
        "dataset.iloc[343]"
      ]
    },
    {
      "cell_type": "code",
      "execution_count": 23,
      "metadata": {
        "colab": {
          "base_uri": "https://localhost:8080/",
          "height": 35
        },
        "id": "yRR36m8DO-n-",
        "outputId": "69331570-2073-4aab-90f8-f96eb0e62e04"
      },
      "outputs": [
        {
          "data": {
            "text/plain": [
              "'cooking baking pantry pavilions pavilions spend 270 at pavilions'"
            ]
          },
          "execution_count": 23,
          "metadata": {},
          "output_type": "execute_result"
        }
      ],
      "source": [
        "dataset_concatenated[343]"
      ]
    },
    {
      "cell_type": "code",
      "execution_count": 25,
      "metadata": {
        "id": "DQar1jvoEmzR"
      },
      "outputs": [
        {
          "name": "stderr",
          "output_type": "stream",
          "text": [
            "Downloading (…)lve/main/config.json: 100%|██████████| 587/587 [00:00<00:00, 235kB/s]\n",
            "Downloading pytorch_model.bin: 100%|██████████| 438M/438M [00:39<00:00, 11.2MB/s] \n",
            "Downloading (…)okenizer_config.json: 100%|██████████| 1.19k/1.19k [00:00<00:00, 680kB/s]\n",
            "Downloading (…)solve/main/vocab.txt: 100%|██████████| 232k/232k [00:00<00:00, 3.24MB/s]\n",
            "Downloading (…)/main/tokenizer.json: 100%|██████████| 466k/466k [00:00<00:00, 12.1MB/s]\n",
            "Downloading (…)cial_tokens_map.json: 100%|██████████| 239/239 [00:00<00:00, 135kB/s]\n"
          ]
        }
      ],
      "source": [
        "# Create an embeddings\n",
        "embeddings = Embeddings(hybrid=True, path=\"sentence-transformers/nli-mpnet-base-v2\")"
      ]
    },
    {
      "cell_type": "code",
      "execution_count": 26,
      "metadata": {
        "id": "DLKBjq8PJioP"
      },
      "outputs": [],
      "source": [
        "embeddings.index(dataset_concatenated)"
      ]
    },
    {
      "cell_type": "code",
      "execution_count": 101,
      "metadata": {
        "id": "Z1Kx0IjVSaeO"
      },
      "outputs": [],
      "source": [
        "embeddings.save(\"dataset_index\")"
      ]
    },
    {
      "cell_type": "code",
      "execution_count": 27,
      "metadata": {
        "id": "zlT0E8IlSike"
      },
      "outputs": [],
      "source": [
        "embeddings = Embeddings()\n",
        "embeddings.load(\"dataset_index\")"
      ]
    },
    {
      "cell_type": "code",
      "execution_count": 46,
      "metadata": {
        "id": "0K6MaUUcLtUD"
      },
      "outputs": [],
      "source": [
        "search_data = embeddings.search(\"whole foods mart\", 30)"
      ]
    },
    {
      "cell_type": "code",
      "execution_count": 47,
      "metadata": {},
      "outputs": [],
      "source": [
        "search_results = pd.DataFrame(columns=['OFFER', 'SCORE'])"
      ]
    },
    {
      "cell_type": "code",
      "execution_count": 48,
      "metadata": {
        "id": "K2BWxzCiMFyf"
      },
      "outputs": [
        {
          "name": "stderr",
          "output_type": "stream",
          "text": [
            "/var/folders/qr/k24h_l692vx1zvz033zg1hq40000gn/T/ipykernel_44786/502295961.py:4: FutureWarning: The behavior of DataFrame concatenation with empty or all-NA entries is deprecated. In a future version, this will no longer exclude empty or all-NA columns when determining the result dtypes. To retain the old behavior, exclude the relevant entries before the concat operation.\n",
            "  search_results = pd.concat([search_results, pd.DataFrame.from_records([{'OFFER': dataset.iloc[index]['OFFER'], 'SCORE':score }])], ignore_index=True)\n"
          ]
        }
      ],
      "source": [
        "for index, score in search_data:\n",
        "    # search_results.append( [dataset.iloc[index]['OFFER'], score] )\n",
        "    # search_results.append({'OFFER': dataset.iloc[index]['OFFER'], 'SCORE':score })\n",
        "    search_results = pd.concat([search_results, pd.DataFrame.from_records([{'OFFER': dataset.iloc[index]['OFFER'], 'SCORE':score }])], ignore_index=True)"
      ]
    },
    {
      "cell_type": "code",
      "execution_count": 49,
      "metadata": {
        "colab": {
          "base_uri": "https://localhost:8080/"
        },
        "id": "2UV3UOboR7Au",
        "outputId": "2a7374c9-1007-427e-ebb2-c2fecddb2675"
      },
      "outputs": [
        {
          "data": {
            "text/html": [
              "<div>\n",
              "<style scoped>\n",
              "    .dataframe tbody tr th:only-of-type {\n",
              "        vertical-align: middle;\n",
              "    }\n",
              "\n",
              "    .dataframe tbody tr th {\n",
              "        vertical-align: top;\n",
              "    }\n",
              "\n",
              "    .dataframe thead th {\n",
              "        text-align: right;\n",
              "    }\n",
              "</style>\n",
              "<table border=\"1\" class=\"dataframe\">\n",
              "  <thead>\n",
              "    <tr style=\"text-align: right;\">\n",
              "      <th></th>\n",
              "      <th>OFFER</th>\n",
              "      <th>SCORE</th>\n",
              "    </tr>\n",
              "  </thead>\n",
              "  <tbody>\n",
              "    <tr>\n",
              "      <th>0</th>\n",
              "      <td>EVOLVE® Plant-Based Protein Shake, 4 count, se...</td>\n",
              "      <td>0.494850</td>\n",
              "    </tr>\n",
              "    <tr>\n",
              "      <th>1</th>\n",
              "      <td>EVOLVE® Plant-Based Protein Shake, 4 count, se...</td>\n",
              "      <td>0.489589</td>\n",
              "    </tr>\n",
              "    <tr>\n",
              "      <th>2</th>\n",
              "      <td>Gorton's Air Fried Butterfly Shrimp, at Walmart</td>\n",
              "      <td>0.302412</td>\n",
              "    </tr>\n",
              "    <tr>\n",
              "      <th>3</th>\n",
              "      <td>Tyson Products, select varieties, spend $15 at...</td>\n",
              "      <td>0.299230</td>\n",
              "    </tr>\n",
              "    <tr>\n",
              "      <th>4</th>\n",
              "      <td>Gorton's at select retailers</td>\n",
              "      <td>0.293307</td>\n",
              "    </tr>\n",
              "    <tr>\n",
              "      <th>5</th>\n",
              "      <td>Back to the Roots Microgreens Grow Kit OR Seed...</td>\n",
              "      <td>0.290968</td>\n",
              "    </tr>\n",
              "    <tr>\n",
              "      <th>6</th>\n",
              "      <td>Back to the Roots Soils, select varieties and ...</td>\n",
              "      <td>0.290918</td>\n",
              "    </tr>\n",
              "    <tr>\n",
              "      <th>7</th>\n",
              "      <td>Back to the Roots Grow Hydroponic Grow Kit OR ...</td>\n",
              "      <td>0.289889</td>\n",
              "    </tr>\n",
              "    <tr>\n",
              "      <th>8</th>\n",
              "      <td>General Mills™ products, select brands, spend ...</td>\n",
              "      <td>0.284443</td>\n",
              "    </tr>\n",
              "    <tr>\n",
              "      <th>9</th>\n",
              "      <td>Sara Lee® bread, select varieties, buy 2 at Wa...</td>\n",
              "      <td>0.284406</td>\n",
              "    </tr>\n",
              "    <tr>\n",
              "      <th>10</th>\n",
              "      <td>Back to the Roots Soils, select varieties, at ...</td>\n",
              "      <td>0.283404</td>\n",
              "    </tr>\n",
              "    <tr>\n",
              "      <th>11</th>\n",
              "      <td>Gorton's, at select retailers</td>\n",
              "      <td>0.281911</td>\n",
              "    </tr>\n",
              "    <tr>\n",
              "      <th>12</th>\n",
              "      <td>Back to the Roots Seeds, at Walmart</td>\n",
              "      <td>0.279972</td>\n",
              "    </tr>\n",
              "    <tr>\n",
              "      <th>13</th>\n",
              "      <td>Gorton's at select retailers</td>\n",
              "      <td>0.277194</td>\n",
              "    </tr>\n",
              "    <tr>\n",
              "      <th>14</th>\n",
              "      <td>Gorton's, at select retailers</td>\n",
              "      <td>0.277194</td>\n",
              "    </tr>\n",
              "    <tr>\n",
              "      <th>15</th>\n",
              "      <td>Gorton's Air Fried Butterfly Shrimp, at Walmart</td>\n",
              "      <td>0.276964</td>\n",
              "    </tr>\n",
              "    <tr>\n",
              "      <th>16</th>\n",
              "      <td>Sara Lee® bread, select varieties, buy 2 at Wa...</td>\n",
              "      <td>0.276540</td>\n",
              "    </tr>\n",
              "    <tr>\n",
              "      <th>17</th>\n",
              "      <td>Back to the Roots Grow Kits at Walmart or The ...</td>\n",
              "      <td>0.276481</td>\n",
              "    </tr>\n",
              "    <tr>\n",
              "      <th>18</th>\n",
              "      <td>General Mills™ products, select brands, spend $35</td>\n",
              "      <td>0.275632</td>\n",
              "    </tr>\n",
              "    <tr>\n",
              "      <th>19</th>\n",
              "      <td>General Mills™ products, select brands, spend ...</td>\n",
              "      <td>0.274416</td>\n",
              "    </tr>\n",
              "    <tr>\n",
              "      <th>20</th>\n",
              "      <td>General Mills™ products, select brands, spend ...</td>\n",
              "      <td>0.274039</td>\n",
              "    </tr>\n",
              "    <tr>\n",
              "      <th>21</th>\n",
              "      <td>General Mills™ products, select brands, spend ...</td>\n",
              "      <td>0.273720</td>\n",
              "    </tr>\n",
              "    <tr>\n",
              "      <th>22</th>\n",
              "      <td>Back to the Roots Organic 3-In-1 Seed Starting...</td>\n",
              "      <td>0.273564</td>\n",
              "    </tr>\n",
              "    <tr>\n",
              "      <th>23</th>\n",
              "      <td>General Mills™ products, select brands, spend ...</td>\n",
              "      <td>0.271841</td>\n",
              "    </tr>\n",
              "    <tr>\n",
              "      <th>24</th>\n",
              "      <td>General Mills™ products, select brands, spend ...</td>\n",
              "      <td>0.268500</td>\n",
              "    </tr>\n",
              "    <tr>\n",
              "      <th>25</th>\n",
              "      <td>Persil® ProClean®, select varieties, at Walmart</td>\n",
              "      <td>0.267423</td>\n",
              "    </tr>\n",
              "    <tr>\n",
              "      <th>26</th>\n",
              "      <td>Kradle, select varieties, spend $20 at Walmart</td>\n",
              "      <td>0.266991</td>\n",
              "    </tr>\n",
              "    <tr>\n",
              "      <th>27</th>\n",
              "      <td>General Mills™ products, select brands, spend ...</td>\n",
              "      <td>0.264747</td>\n",
              "    </tr>\n",
              "    <tr>\n",
              "      <th>28</th>\n",
              "      <td>Sara Lee® bread select varieties, buy 2</td>\n",
              "      <td>0.264723</td>\n",
              "    </tr>\n",
              "    <tr>\n",
              "      <th>29</th>\n",
              "      <td>Artesano® buns, buy 2 at Walmart®</td>\n",
              "      <td>0.263265</td>\n",
              "    </tr>\n",
              "  </tbody>\n",
              "</table>\n",
              "</div>"
            ],
            "text/plain": [
              "                                                OFFER     SCORE\n",
              "0   EVOLVE® Plant-Based Protein Shake, 4 count, se...  0.494850\n",
              "1   EVOLVE® Plant-Based Protein Shake, 4 count, se...  0.489589\n",
              "2     Gorton's Air Fried Butterfly Shrimp, at Walmart  0.302412\n",
              "3   Tyson Products, select varieties, spend $15 at...  0.299230\n",
              "4                        Gorton's at select retailers  0.293307\n",
              "5   Back to the Roots Microgreens Grow Kit OR Seed...  0.290968\n",
              "6   Back to the Roots Soils, select varieties and ...  0.290918\n",
              "7   Back to the Roots Grow Hydroponic Grow Kit OR ...  0.289889\n",
              "8   General Mills™ products, select brands, spend ...  0.284443\n",
              "9   Sara Lee® bread, select varieties, buy 2 at Wa...  0.284406\n",
              "10  Back to the Roots Soils, select varieties, at ...  0.283404\n",
              "11                      Gorton's, at select retailers  0.281911\n",
              "12                Back to the Roots Seeds, at Walmart  0.279972\n",
              "13                       Gorton's at select retailers  0.277194\n",
              "14                      Gorton's, at select retailers  0.277194\n",
              "15    Gorton's Air Fried Butterfly Shrimp, at Walmart  0.276964\n",
              "16  Sara Lee® bread, select varieties, buy 2 at Wa...  0.276540\n",
              "17  Back to the Roots Grow Kits at Walmart or The ...  0.276481\n",
              "18  General Mills™ products, select brands, spend $35  0.275632\n",
              "19  General Mills™ products, select brands, spend ...  0.274416\n",
              "20  General Mills™ products, select brands, spend ...  0.274039\n",
              "21  General Mills™ products, select brands, spend ...  0.273720\n",
              "22  Back to the Roots Organic 3-In-1 Seed Starting...  0.273564\n",
              "23  General Mills™ products, select brands, spend ...  0.271841\n",
              "24  General Mills™ products, select brands, spend ...  0.268500\n",
              "25    Persil® ProClean®, select varieties, at Walmart  0.267423\n",
              "26     Kradle, select varieties, spend $20 at Walmart  0.266991\n",
              "27  General Mills™ products, select brands, spend ...  0.264747\n",
              "28            Sara Lee® bread select varieties, buy 2  0.264723\n",
              "29                  Artesano® buns, buy 2 at Walmart®  0.263265"
            ]
          },
          "execution_count": 49,
          "metadata": {},
          "output_type": "execute_result"
        }
      ],
      "source": [
        "search_results"
      ]
    }
  ],
  "metadata": {
    "colab": {
      "provenance": []
    },
    "kernelspec": {
      "display_name": "Python 3",
      "name": "python3"
    },
    "language_info": {
      "codemirror_mode": {
        "name": "ipython",
        "version": 3
      },
      "file_extension": ".py",
      "mimetype": "text/x-python",
      "name": "python",
      "nbconvert_exporter": "python",
      "pygments_lexer": "ipython3",
      "version": "3.9.17"
    }
  },
  "nbformat": 4,
  "nbformat_minor": 0
}
