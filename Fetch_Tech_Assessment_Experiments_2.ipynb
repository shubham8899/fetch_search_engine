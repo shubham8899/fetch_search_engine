{
  "nbformat": 4,
  "nbformat_minor": 0,
  "metadata": {
    "colab": {
      "provenance": []
    },
    "kernelspec": {
      "name": "python3",
      "display_name": "Python 3"
    },
    "language_info": {
      "name": "python"
    },
    "widgets": {
      "application/vnd.jupyter.widget-state+json": {
        "058bdfbe45a641b79162ad2f2520f537": {
          "model_module": "@jupyter-widgets/controls",
          "model_name": "HBoxModel",
          "model_module_version": "1.5.0",
          "state": {
            "_dom_classes": [],
            "_model_module": "@jupyter-widgets/controls",
            "_model_module_version": "1.5.0",
            "_model_name": "HBoxModel",
            "_view_count": null,
            "_view_module": "@jupyter-widgets/controls",
            "_view_module_version": "1.5.0",
            "_view_name": "HBoxView",
            "box_style": "",
            "children": [
              "IPY_MODEL_c01f33bbaa0441d5965a7a185f4c38ea",
              "IPY_MODEL_5526d5ef16cb429486227e53da884be1",
              "IPY_MODEL_98eb6831b7d94781b798f2e5cb5910fb"
            ],
            "layout": "IPY_MODEL_6be793db8f7d4c9e9b3b74b6b6d55e5a"
          }
        },
        "c01f33bbaa0441d5965a7a185f4c38ea": {
          "model_module": "@jupyter-widgets/controls",
          "model_name": "HTMLModel",
          "model_module_version": "1.5.0",
          "state": {
            "_dom_classes": [],
            "_model_module": "@jupyter-widgets/controls",
            "_model_module_version": "1.5.0",
            "_model_name": "HTMLModel",
            "_view_count": null,
            "_view_module": "@jupyter-widgets/controls",
            "_view_module_version": "1.5.0",
            "_view_name": "HTMLView",
            "description": "",
            "description_tooltip": null,
            "layout": "IPY_MODEL_813a78e721824fdb8e1affff864db442",
            "placeholder": "​",
            "style": "IPY_MODEL_6f5ef80376cb45e39c39fabfb78e70fb",
            "value": "Downloading model.safetensors: 100%"
          }
        },
        "5526d5ef16cb429486227e53da884be1": {
          "model_module": "@jupyter-widgets/controls",
          "model_name": "FloatProgressModel",
          "model_module_version": "1.5.0",
          "state": {
            "_dom_classes": [],
            "_model_module": "@jupyter-widgets/controls",
            "_model_module_version": "1.5.0",
            "_model_name": "FloatProgressModel",
            "_view_count": null,
            "_view_module": "@jupyter-widgets/controls",
            "_view_module_version": "1.5.0",
            "_view_name": "ProgressView",
            "bar_style": "success",
            "description": "",
            "description_tooltip": null,
            "layout": "IPY_MODEL_4ce77260711344a78f27cf359ea35611",
            "max": 440449768,
            "min": 0,
            "orientation": "horizontal",
            "style": "IPY_MODEL_3f6e71c5351e46acaaa4be0e617e215f",
            "value": 440449768
          }
        },
        "98eb6831b7d94781b798f2e5cb5910fb": {
          "model_module": "@jupyter-widgets/controls",
          "model_name": "HTMLModel",
          "model_module_version": "1.5.0",
          "state": {
            "_dom_classes": [],
            "_model_module": "@jupyter-widgets/controls",
            "_model_module_version": "1.5.0",
            "_model_name": "HTMLModel",
            "_view_count": null,
            "_view_module": "@jupyter-widgets/controls",
            "_view_module_version": "1.5.0",
            "_view_name": "HTMLView",
            "description": "",
            "description_tooltip": null,
            "layout": "IPY_MODEL_a06a0f5bde9a4e348fb58687a00bb6ce",
            "placeholder": "​",
            "style": "IPY_MODEL_2e4153b37abf4413a6d8b004bccab182",
            "value": " 440M/440M [00:03&lt;00:00, 153MB/s]"
          }
        },
        "6be793db8f7d4c9e9b3b74b6b6d55e5a": {
          "model_module": "@jupyter-widgets/base",
          "model_name": "LayoutModel",
          "model_module_version": "1.2.0",
          "state": {
            "_model_module": "@jupyter-widgets/base",
            "_model_module_version": "1.2.0",
            "_model_name": "LayoutModel",
            "_view_count": null,
            "_view_module": "@jupyter-widgets/base",
            "_view_module_version": "1.2.0",
            "_view_name": "LayoutView",
            "align_content": null,
            "align_items": null,
            "align_self": null,
            "border": null,
            "bottom": null,
            "display": null,
            "flex": null,
            "flex_flow": null,
            "grid_area": null,
            "grid_auto_columns": null,
            "grid_auto_flow": null,
            "grid_auto_rows": null,
            "grid_column": null,
            "grid_gap": null,
            "grid_row": null,
            "grid_template_areas": null,
            "grid_template_columns": null,
            "grid_template_rows": null,
            "height": null,
            "justify_content": null,
            "justify_items": null,
            "left": null,
            "margin": null,
            "max_height": null,
            "max_width": null,
            "min_height": null,
            "min_width": null,
            "object_fit": null,
            "object_position": null,
            "order": null,
            "overflow": null,
            "overflow_x": null,
            "overflow_y": null,
            "padding": null,
            "right": null,
            "top": null,
            "visibility": null,
            "width": null
          }
        },
        "813a78e721824fdb8e1affff864db442": {
          "model_module": "@jupyter-widgets/base",
          "model_name": "LayoutModel",
          "model_module_version": "1.2.0",
          "state": {
            "_model_module": "@jupyter-widgets/base",
            "_model_module_version": "1.2.0",
            "_model_name": "LayoutModel",
            "_view_count": null,
            "_view_module": "@jupyter-widgets/base",
            "_view_module_version": "1.2.0",
            "_view_name": "LayoutView",
            "align_content": null,
            "align_items": null,
            "align_self": null,
            "border": null,
            "bottom": null,
            "display": null,
            "flex": null,
            "flex_flow": null,
            "grid_area": null,
            "grid_auto_columns": null,
            "grid_auto_flow": null,
            "grid_auto_rows": null,
            "grid_column": null,
            "grid_gap": null,
            "grid_row": null,
            "grid_template_areas": null,
            "grid_template_columns": null,
            "grid_template_rows": null,
            "height": null,
            "justify_content": null,
            "justify_items": null,
            "left": null,
            "margin": null,
            "max_height": null,
            "max_width": null,
            "min_height": null,
            "min_width": null,
            "object_fit": null,
            "object_position": null,
            "order": null,
            "overflow": null,
            "overflow_x": null,
            "overflow_y": null,
            "padding": null,
            "right": null,
            "top": null,
            "visibility": null,
            "width": null
          }
        },
        "6f5ef80376cb45e39c39fabfb78e70fb": {
          "model_module": "@jupyter-widgets/controls",
          "model_name": "DescriptionStyleModel",
          "model_module_version": "1.5.0",
          "state": {
            "_model_module": "@jupyter-widgets/controls",
            "_model_module_version": "1.5.0",
            "_model_name": "DescriptionStyleModel",
            "_view_count": null,
            "_view_module": "@jupyter-widgets/base",
            "_view_module_version": "1.2.0",
            "_view_name": "StyleView",
            "description_width": ""
          }
        },
        "4ce77260711344a78f27cf359ea35611": {
          "model_module": "@jupyter-widgets/base",
          "model_name": "LayoutModel",
          "model_module_version": "1.2.0",
          "state": {
            "_model_module": "@jupyter-widgets/base",
            "_model_module_version": "1.2.0",
            "_model_name": "LayoutModel",
            "_view_count": null,
            "_view_module": "@jupyter-widgets/base",
            "_view_module_version": "1.2.0",
            "_view_name": "LayoutView",
            "align_content": null,
            "align_items": null,
            "align_self": null,
            "border": null,
            "bottom": null,
            "display": null,
            "flex": null,
            "flex_flow": null,
            "grid_area": null,
            "grid_auto_columns": null,
            "grid_auto_flow": null,
            "grid_auto_rows": null,
            "grid_column": null,
            "grid_gap": null,
            "grid_row": null,
            "grid_template_areas": null,
            "grid_template_columns": null,
            "grid_template_rows": null,
            "height": null,
            "justify_content": null,
            "justify_items": null,
            "left": null,
            "margin": null,
            "max_height": null,
            "max_width": null,
            "min_height": null,
            "min_width": null,
            "object_fit": null,
            "object_position": null,
            "order": null,
            "overflow": null,
            "overflow_x": null,
            "overflow_y": null,
            "padding": null,
            "right": null,
            "top": null,
            "visibility": null,
            "width": null
          }
        },
        "3f6e71c5351e46acaaa4be0e617e215f": {
          "model_module": "@jupyter-widgets/controls",
          "model_name": "ProgressStyleModel",
          "model_module_version": "1.5.0",
          "state": {
            "_model_module": "@jupyter-widgets/controls",
            "_model_module_version": "1.5.0",
            "_model_name": "ProgressStyleModel",
            "_view_count": null,
            "_view_module": "@jupyter-widgets/base",
            "_view_module_version": "1.2.0",
            "_view_name": "StyleView",
            "bar_color": null,
            "description_width": ""
          }
        },
        "a06a0f5bde9a4e348fb58687a00bb6ce": {
          "model_module": "@jupyter-widgets/base",
          "model_name": "LayoutModel",
          "model_module_version": "1.2.0",
          "state": {
            "_model_module": "@jupyter-widgets/base",
            "_model_module_version": "1.2.0",
            "_model_name": "LayoutModel",
            "_view_count": null,
            "_view_module": "@jupyter-widgets/base",
            "_view_module_version": "1.2.0",
            "_view_name": "LayoutView",
            "align_content": null,
            "align_items": null,
            "align_self": null,
            "border": null,
            "bottom": null,
            "display": null,
            "flex": null,
            "flex_flow": null,
            "grid_area": null,
            "grid_auto_columns": null,
            "grid_auto_flow": null,
            "grid_auto_rows": null,
            "grid_column": null,
            "grid_gap": null,
            "grid_row": null,
            "grid_template_areas": null,
            "grid_template_columns": null,
            "grid_template_rows": null,
            "height": null,
            "justify_content": null,
            "justify_items": null,
            "left": null,
            "margin": null,
            "max_height": null,
            "max_width": null,
            "min_height": null,
            "min_width": null,
            "object_fit": null,
            "object_position": null,
            "order": null,
            "overflow": null,
            "overflow_x": null,
            "overflow_y": null,
            "padding": null,
            "right": null,
            "top": null,
            "visibility": null,
            "width": null
          }
        },
        "2e4153b37abf4413a6d8b004bccab182": {
          "model_module": "@jupyter-widgets/controls",
          "model_name": "DescriptionStyleModel",
          "model_module_version": "1.5.0",
          "state": {
            "_model_module": "@jupyter-widgets/controls",
            "_model_module_version": "1.5.0",
            "_model_name": "DescriptionStyleModel",
            "_view_count": null,
            "_view_module": "@jupyter-widgets/base",
            "_view_module_version": "1.2.0",
            "_view_name": "StyleView",
            "description_width": ""
          }
        }
      }
    }
  },
  "cells": [
    {
      "cell_type": "markdown",
      "source": [
        "# Classifying input into one of Category, Brand or Retailer\n",
        "Used a pretrained BERT model and fine tuned it on a custom labeled dataset of Categories, Brands and Retailers for classification. Extremely imbalanced dataset results in bad classification."
      ],
      "metadata": {
        "id": "hCOZfG7GTzz2"
      }
    },
    {
      "cell_type": "code",
      "source": [
        "# !pip install transformers"
      ],
      "metadata": {
        "id": "hu40e7IzuJWt"
      },
      "execution_count": null,
      "outputs": []
    },
    {
      "cell_type": "code",
      "execution_count": null,
      "metadata": {
        "id": "VfHQ8VggmkS_"
      },
      "outputs": [],
      "source": [
        "import pandas as pd\n",
        "import torch\n",
        "from torch.utils.data import DataLoader, Dataset\n",
        "from sklearn.model_selection import train_test_split\n",
        "from sklearn.preprocessing import LabelEncoder\n",
        "from torch.nn import CrossEntropyLoss\n",
        "from torch.optim import Adam\n",
        "from tqdm import tqdm\n",
        "from torch.utils.data import Dataset, DataLoader\n",
        "from transformers import BertTokenizer, BertForSequenceClassification, AdamW\n",
        "from sklearn.metrics import classification_report\n",
        "from sklearn.model_selection import train_test_split\n",
        "from sklearn.preprocessing import LabelEncoder\n",
        "import random\n",
        "import json"
      ]
    },
    {
      "cell_type": "markdown",
      "source": [
        "## Classify input into one of category, brand or retailer"
      ],
      "metadata": {
        "id": "E547SmVdmrQQ"
      }
    },
    {
      "cell_type": "markdown",
      "source": [
        "### Creating classification dataset"
      ],
      "metadata": {
        "id": "aE47nHhY9Gtz"
      }
    },
    {
      "cell_type": "code",
      "source": [
        "# Creating classification data\n",
        "df_categories = pd.read_csv('categories.csv')\n",
        "df_brands = pd.read_csv('brand_category.csv')\n",
        "df_offers = pd.read_csv('offer_retailer.csv')"
      ],
      "metadata": {
        "id": "6Bn_uxuwmoFu"
      },
      "execution_count": null,
      "outputs": []
    },
    {
      "cell_type": "code",
      "source": [
        "def preprocess_column(column):\n",
        "    column = column.astype(str).str.lower()\n",
        "    column = column.str.replace(r'-', ' ', regex=True)\n",
        "    column = column.str.replace(r'[^a-z0-9\\s]', ' ', regex=True)\n",
        "    column = column.str.replace(r'\\s+', ' ', regex=True)\n",
        "    column = column.str.strip()\n",
        "    return column"
      ],
      "metadata": {
        "id": "qYRzdyfNosyA"
      },
      "execution_count": null,
      "outputs": []
    },
    {
      "cell_type": "code",
      "source": [
        "df_categories['PRODUCT_CATEGORY'] = preprocess_column(df_categories['PRODUCT_CATEGORY'])\n",
        "df_categories['IS_CHILD_CATEGORY_TO'] = preprocess_column(df_categories['IS_CHILD_CATEGORY_TO'])\n",
        "\n",
        "df_brands['BRAND'] = preprocess_column(df_brands['BRAND'])\n",
        "df_brands['BRAND_BELONGS_TO_CATEGORY'] = preprocess_column(df_brands['BRAND_BELONGS_TO_CATEGORY'])\n",
        "\n",
        "df_offers['OFFER_PREPROCESSED'] = preprocess_column(df_offers['OFFER'])\n",
        "df_offers['RETAILER'] = preprocess_column(df_offers['RETAILER'])\n",
        "df_offers['BRAND'] = preprocess_column(df_offers['BRAND'])"
      ],
      "metadata": {
        "id": "gonzDL6XozuI"
      },
      "execution_count": null,
      "outputs": []
    },
    {
      "cell_type": "code",
      "source": [
        "category_list = list( set( list(df_categories['PRODUCT_CATEGORY']) + list(df_categories['IS_CHILD_CATEGORY_TO']) + list(df_brands['BRAND_BELONGS_TO_CATEGORY'] )))"
      ],
      "metadata": {
        "id": "diZJRiYBo9vF"
      },
      "execution_count": null,
      "outputs": []
    },
    {
      "cell_type": "code",
      "source": [
        "brand_list = list( set( list(df_brands['BRAND']) + list(df_offers['BRAND'] )))"
      ],
      "metadata": {
        "id": "9MXLFel7px5E"
      },
      "execution_count": null,
      "outputs": []
    },
    {
      "cell_type": "code",
      "source": [
        "retailer_list = list( set( list( df_offers['RETAILER'] )))"
      ],
      "metadata": {
        "id": "5RyoW6nyMnpF"
      },
      "execution_count": null,
      "outputs": []
    },
    {
      "cell_type": "code",
      "source": [
        "# Create a list of tuples with elements and their label\n",
        "combined_data = [(item, 'category') for item in category_list] + [(item, 'brand') for item in brand_list] + [(item, 'retailer') for item in retailer_list]\n",
        "\n",
        "# Create a DataFrame from the combined data\n",
        "df = pd.DataFrame(combined_data, columns=['Element', 'Label'])"
      ],
      "metadata": {
        "id": "WVq88TttMtCG"
      },
      "execution_count": null,
      "outputs": []
    },
    {
      "cell_type": "code",
      "source": [
        "df = df.dropna(subset=['Element'])"
      ],
      "metadata": {
        "id": "e1fiM39rMymn"
      },
      "execution_count": null,
      "outputs": []
    },
    {
      "cell_type": "code",
      "source": [
        "df = df.sample(frac=1, random_state=42)  # Setting a random_state for reproducibility\n",
        "df.reset_index(drop=True, inplace=True)"
      ],
      "metadata": {
        "id": "czTLuIRGRbYV"
      },
      "execution_count": null,
      "outputs": []
    },
    {
      "cell_type": "code",
      "source": [
        "df.to_csv('classification.csv')"
      ],
      "metadata": {
        "id": "4uqu0gLOM1SQ"
      },
      "execution_count": null,
      "outputs": []
    },
    {
      "cell_type": "code",
      "source": [
        "df = pd.read_csv('classification.csv', index_col=0)\n",
        "df = df.dropna(subset=['Element'])"
      ],
      "metadata": {
        "id": "tXOiVV2h8T1H"
      },
      "execution_count": null,
      "outputs": []
    },
    {
      "cell_type": "code",
      "source": [
        "df['Label'].value_counts()"
      ],
      "metadata": {
        "id": "S3S8dgX4ZsxS",
        "colab": {
          "base_uri": "https://localhost:8080/"
        },
        "outputId": "bd123c5f-ac3f-42f1-e10b-9aa6c0abb7dd"
      },
      "execution_count": null,
      "outputs": [
        {
          "output_type": "execute_result",
          "data": {
            "text/plain": [
              "brand       8464\n",
              "category     132\n",
              "retailer      61\n",
              "Name: Label, dtype: int64"
            ]
          },
          "metadata": {},
          "execution_count": 67
        }
      ]
    },
    {
      "cell_type": "code",
      "source": [
        "df"
      ],
      "metadata": {
        "colab": {
          "base_uri": "https://localhost:8080/",
          "height": 694
        },
        "id": "CwCh0Vg920xo",
        "outputId": "08500662-c5bb-4aaa-fb00-ff4c96c2d6dc"
      },
      "execution_count": null,
      "outputs": [
        {
          "output_type": "execute_result",
          "data": {
            "text/plain": [
              "                                   Element  Label\n",
              "0                       seventh generation  brand\n",
              "1                      the nutmeg spice co  brand\n",
              "2                               orin swift  brand\n",
              "3     brick west westbound train juicy ipa  brand\n",
              "4                          southern living  brand\n",
              "...                                    ...    ...\n",
              "8654                     bauhaus brew labs  brand\n",
              "8655               crooked palm distillery  brand\n",
              "8656                  greenbush brewing co  brand\n",
              "8657                       appleton estate  brand\n",
              "8658                            castellani  brand\n",
              "\n",
              "[8657 rows x 2 columns]"
            ],
            "text/html": [
              "\n",
              "  <div id=\"df-e9fecab3-cc1c-4a76-bb2f-5744320ac851\" class=\"colab-df-container\">\n",
              "    <div>\n",
              "<style scoped>\n",
              "    .dataframe tbody tr th:only-of-type {\n",
              "        vertical-align: middle;\n",
              "    }\n",
              "\n",
              "    .dataframe tbody tr th {\n",
              "        vertical-align: top;\n",
              "    }\n",
              "\n",
              "    .dataframe thead th {\n",
              "        text-align: right;\n",
              "    }\n",
              "</style>\n",
              "<table border=\"1\" class=\"dataframe\">\n",
              "  <thead>\n",
              "    <tr style=\"text-align: right;\">\n",
              "      <th></th>\n",
              "      <th>Element</th>\n",
              "      <th>Label</th>\n",
              "    </tr>\n",
              "  </thead>\n",
              "  <tbody>\n",
              "    <tr>\n",
              "      <th>0</th>\n",
              "      <td>seventh generation</td>\n",
              "      <td>brand</td>\n",
              "    </tr>\n",
              "    <tr>\n",
              "      <th>1</th>\n",
              "      <td>the nutmeg spice co</td>\n",
              "      <td>brand</td>\n",
              "    </tr>\n",
              "    <tr>\n",
              "      <th>2</th>\n",
              "      <td>orin swift</td>\n",
              "      <td>brand</td>\n",
              "    </tr>\n",
              "    <tr>\n",
              "      <th>3</th>\n",
              "      <td>brick west westbound train juicy ipa</td>\n",
              "      <td>brand</td>\n",
              "    </tr>\n",
              "    <tr>\n",
              "      <th>4</th>\n",
              "      <td>southern living</td>\n",
              "      <td>brand</td>\n",
              "    </tr>\n",
              "    <tr>\n",
              "      <th>...</th>\n",
              "      <td>...</td>\n",
              "      <td>...</td>\n",
              "    </tr>\n",
              "    <tr>\n",
              "      <th>8654</th>\n",
              "      <td>bauhaus brew labs</td>\n",
              "      <td>brand</td>\n",
              "    </tr>\n",
              "    <tr>\n",
              "      <th>8655</th>\n",
              "      <td>crooked palm distillery</td>\n",
              "      <td>brand</td>\n",
              "    </tr>\n",
              "    <tr>\n",
              "      <th>8656</th>\n",
              "      <td>greenbush brewing co</td>\n",
              "      <td>brand</td>\n",
              "    </tr>\n",
              "    <tr>\n",
              "      <th>8657</th>\n",
              "      <td>appleton estate</td>\n",
              "      <td>brand</td>\n",
              "    </tr>\n",
              "    <tr>\n",
              "      <th>8658</th>\n",
              "      <td>castellani</td>\n",
              "      <td>brand</td>\n",
              "    </tr>\n",
              "  </tbody>\n",
              "</table>\n",
              "<p>8657 rows × 2 columns</p>\n",
              "</div>\n",
              "    <div class=\"colab-df-buttons\">\n",
              "\n",
              "  <div class=\"colab-df-container\">\n",
              "    <button class=\"colab-df-convert\" onclick=\"convertToInteractive('df-e9fecab3-cc1c-4a76-bb2f-5744320ac851')\"\n",
              "            title=\"Convert this dataframe to an interactive table.\"\n",
              "            style=\"display:none;\">\n",
              "\n",
              "  <svg xmlns=\"http://www.w3.org/2000/svg\" height=\"24px\" viewBox=\"0 -960 960 960\">\n",
              "    <path d=\"M120-120v-720h720v720H120Zm60-500h600v-160H180v160Zm220 220h160v-160H400v160Zm0 220h160v-160H400v160ZM180-400h160v-160H180v160Zm440 0h160v-160H620v160ZM180-180h160v-160H180v160Zm440 0h160v-160H620v160Z\"/>\n",
              "  </svg>\n",
              "    </button>\n",
              "\n",
              "  <style>\n",
              "    .colab-df-container {\n",
              "      display:flex;\n",
              "      gap: 12px;\n",
              "    }\n",
              "\n",
              "    .colab-df-convert {\n",
              "      background-color: #E8F0FE;\n",
              "      border: none;\n",
              "      border-radius: 50%;\n",
              "      cursor: pointer;\n",
              "      display: none;\n",
              "      fill: #1967D2;\n",
              "      height: 32px;\n",
              "      padding: 0 0 0 0;\n",
              "      width: 32px;\n",
              "    }\n",
              "\n",
              "    .colab-df-convert:hover {\n",
              "      background-color: #E2EBFA;\n",
              "      box-shadow: 0px 1px 2px rgba(60, 64, 67, 0.3), 0px 1px 3px 1px rgba(60, 64, 67, 0.15);\n",
              "      fill: #174EA6;\n",
              "    }\n",
              "\n",
              "    .colab-df-buttons div {\n",
              "      margin-bottom: 4px;\n",
              "    }\n",
              "\n",
              "    [theme=dark] .colab-df-convert {\n",
              "      background-color: #3B4455;\n",
              "      fill: #D2E3FC;\n",
              "    }\n",
              "\n",
              "    [theme=dark] .colab-df-convert:hover {\n",
              "      background-color: #434B5C;\n",
              "      box-shadow: 0px 1px 3px 1px rgba(0, 0, 0, 0.15);\n",
              "      filter: drop-shadow(0px 1px 2px rgba(0, 0, 0, 0.3));\n",
              "      fill: #FFFFFF;\n",
              "    }\n",
              "  </style>\n",
              "\n",
              "    <script>\n",
              "      const buttonEl =\n",
              "        document.querySelector('#df-e9fecab3-cc1c-4a76-bb2f-5744320ac851 button.colab-df-convert');\n",
              "      buttonEl.style.display =\n",
              "        google.colab.kernel.accessAllowed ? 'block' : 'none';\n",
              "\n",
              "      async function convertToInteractive(key) {\n",
              "        const element = document.querySelector('#df-e9fecab3-cc1c-4a76-bb2f-5744320ac851');\n",
              "        const dataTable =\n",
              "          await google.colab.kernel.invokeFunction('convertToInteractive',\n",
              "                                                    [key], {});\n",
              "        if (!dataTable) return;\n",
              "\n",
              "        const docLinkHtml = 'Like what you see? Visit the ' +\n",
              "          '<a target=\"_blank\" href=https://colab.research.google.com/notebooks/data_table.ipynb>data table notebook</a>'\n",
              "          + ' to learn more about interactive tables.';\n",
              "        element.innerHTML = '';\n",
              "        dataTable['output_type'] = 'display_data';\n",
              "        await google.colab.output.renderOutput(dataTable, element);\n",
              "        const docLink = document.createElement('div');\n",
              "        docLink.innerHTML = docLinkHtml;\n",
              "        element.appendChild(docLink);\n",
              "      }\n",
              "    </script>\n",
              "  </div>\n",
              "\n",
              "\n",
              "<div id=\"df-6ae33886-6cca-4ab0-9cc5-51369941ed59\">\n",
              "  <button class=\"colab-df-quickchart\" onclick=\"quickchart('df-6ae33886-6cca-4ab0-9cc5-51369941ed59')\"\n",
              "            title=\"Suggest charts.\"\n",
              "            style=\"display:none;\">\n",
              "\n",
              "<svg xmlns=\"http://www.w3.org/2000/svg\" height=\"24px\"viewBox=\"0 0 24 24\"\n",
              "     width=\"24px\">\n",
              "    <g>\n",
              "        <path d=\"M19 3H5c-1.1 0-2 .9-2 2v14c0 1.1.9 2 2 2h14c1.1 0 2-.9 2-2V5c0-1.1-.9-2-2-2zM9 17H7v-7h2v7zm4 0h-2V7h2v10zm4 0h-2v-4h2v4z\"/>\n",
              "    </g>\n",
              "</svg>\n",
              "  </button>\n",
              "\n",
              "<style>\n",
              "  .colab-df-quickchart {\n",
              "      --bg-color: #E8F0FE;\n",
              "      --fill-color: #1967D2;\n",
              "      --hover-bg-color: #E2EBFA;\n",
              "      --hover-fill-color: #174EA6;\n",
              "      --disabled-fill-color: #AAA;\n",
              "      --disabled-bg-color: #DDD;\n",
              "  }\n",
              "\n",
              "  [theme=dark] .colab-df-quickchart {\n",
              "      --bg-color: #3B4455;\n",
              "      --fill-color: #D2E3FC;\n",
              "      --hover-bg-color: #434B5C;\n",
              "      --hover-fill-color: #FFFFFF;\n",
              "      --disabled-bg-color: #3B4455;\n",
              "      --disabled-fill-color: #666;\n",
              "  }\n",
              "\n",
              "  .colab-df-quickchart {\n",
              "    background-color: var(--bg-color);\n",
              "    border: none;\n",
              "    border-radius: 50%;\n",
              "    cursor: pointer;\n",
              "    display: none;\n",
              "    fill: var(--fill-color);\n",
              "    height: 32px;\n",
              "    padding: 0;\n",
              "    width: 32px;\n",
              "  }\n",
              "\n",
              "  .colab-df-quickchart:hover {\n",
              "    background-color: var(--hover-bg-color);\n",
              "    box-shadow: 0 1px 2px rgba(60, 64, 67, 0.3), 0 1px 3px 1px rgba(60, 64, 67, 0.15);\n",
              "    fill: var(--button-hover-fill-color);\n",
              "  }\n",
              "\n",
              "  .colab-df-quickchart-complete:disabled,\n",
              "  .colab-df-quickchart-complete:disabled:hover {\n",
              "    background-color: var(--disabled-bg-color);\n",
              "    fill: var(--disabled-fill-color);\n",
              "    box-shadow: none;\n",
              "  }\n",
              "\n",
              "  .colab-df-spinner {\n",
              "    border: 2px solid var(--fill-color);\n",
              "    border-color: transparent;\n",
              "    border-bottom-color: var(--fill-color);\n",
              "    animation:\n",
              "      spin 1s steps(1) infinite;\n",
              "  }\n",
              "\n",
              "  @keyframes spin {\n",
              "    0% {\n",
              "      border-color: transparent;\n",
              "      border-bottom-color: var(--fill-color);\n",
              "      border-left-color: var(--fill-color);\n",
              "    }\n",
              "    20% {\n",
              "      border-color: transparent;\n",
              "      border-left-color: var(--fill-color);\n",
              "      border-top-color: var(--fill-color);\n",
              "    }\n",
              "    30% {\n",
              "      border-color: transparent;\n",
              "      border-left-color: var(--fill-color);\n",
              "      border-top-color: var(--fill-color);\n",
              "      border-right-color: var(--fill-color);\n",
              "    }\n",
              "    40% {\n",
              "      border-color: transparent;\n",
              "      border-right-color: var(--fill-color);\n",
              "      border-top-color: var(--fill-color);\n",
              "    }\n",
              "    60% {\n",
              "      border-color: transparent;\n",
              "      border-right-color: var(--fill-color);\n",
              "    }\n",
              "    80% {\n",
              "      border-color: transparent;\n",
              "      border-right-color: var(--fill-color);\n",
              "      border-bottom-color: var(--fill-color);\n",
              "    }\n",
              "    90% {\n",
              "      border-color: transparent;\n",
              "      border-bottom-color: var(--fill-color);\n",
              "    }\n",
              "  }\n",
              "</style>\n",
              "\n",
              "  <script>\n",
              "    async function quickchart(key) {\n",
              "      const quickchartButtonEl =\n",
              "        document.querySelector('#' + key + ' button');\n",
              "      quickchartButtonEl.disabled = true;  // To prevent multiple clicks.\n",
              "      quickchartButtonEl.classList.add('colab-df-spinner');\n",
              "      try {\n",
              "        const charts = await google.colab.kernel.invokeFunction(\n",
              "            'suggestCharts', [key], {});\n",
              "      } catch (error) {\n",
              "        console.error('Error during call to suggestCharts:', error);\n",
              "      }\n",
              "      quickchartButtonEl.classList.remove('colab-df-spinner');\n",
              "      quickchartButtonEl.classList.add('colab-df-quickchart-complete');\n",
              "    }\n",
              "    (() => {\n",
              "      let quickchartButtonEl =\n",
              "        document.querySelector('#df-6ae33886-6cca-4ab0-9cc5-51369941ed59 button');\n",
              "      quickchartButtonEl.style.display =\n",
              "        google.colab.kernel.accessAllowed ? 'block' : 'none';\n",
              "    })();\n",
              "  </script>\n",
              "</div>\n",
              "    </div>\n",
              "  </div>\n"
            ]
          },
          "metadata": {},
          "execution_count": 68
        },
        {
          "output_type": "display_data",
          "data": {
            "text/plain": [
              "<google.colab._quickchart_helpers.SectionTitle at 0x7c96d74b1db0>"
            ],
            "text/html": [
              "<h4 class=\"colab-quickchart-section-title\">Categorical distributions</h4>\n",
              "<style>\n",
              "  .colab-quickchart-section-title {\n",
              "      clear: both;\n",
              "  }\n",
              "</style>"
            ]
          },
          "metadata": {}
        },
        {
          "output_type": "display_data",
          "data": {
            "text/plain": [
              "import numpy as np\n",
              "from google.colab import autoviz\n",
              "\n",
              "def categorical_histogram(df, colname, figscale=1, mpl_palette_name='Dark2'):\n",
              "  from matplotlib import pyplot as plt\n",
              "  import seaborn as sns\n",
              "  df.groupby(colname).size().plot(kind='barh', color=sns.palettes.mpl_palette(mpl_palette_name), figsize=(8*figscale, 4.8*figscale))\n",
              "  plt.gca().spines[['top', 'right',]].set_visible(False)\n",
              "  return autoviz.MplChart.from_current_mpl_state()\n",
              "\n",
              "chart = categorical_histogram(df, *['Label'], **{})\n",
              "chart"
            ],
            "text/html": [
              "      <div class=\"colab-quickchart-chart-with-code\" id=\"chart-fe62fe6f-184c-4c29-8e0e-daaaf917e3e3\">\n",
              "        <img src=\"data:image/png;base64,iVBORw0KGgoAAAANSUhEUgAAAZAAAADgCAYAAAAt6jC5AAAAOXRFWHRTb2Z0d2FyZQBNYXRwbG90\n",
              "bGliIHZlcnNpb24zLjcuMSwgaHR0cHM6Ly9tYXRwbG90bGliLm9yZy/bCgiHAAAACXBIWXMAAA9h\n",
              "AAAPYQGoP6dpAAAVb0lEQVR4nO3deXBV5f3H8c8lwStbBIKiAiEVEmzIclkSEiCgLOofiDSdqdQW\n",
              "qAEy1GEwajsSZAYcGVAQKNDp1KUGENxaQDuoUyhlSFpBtkAUhwiYBSsKDTEJnRCyfH9/ML0/gizJ\n",
              "k5CbkPdr5s7cc56zfM9zT/jMOc/lXI+ZmQAAaKB2gS4AANA6ESAAACcECADACQECAHBCgAAAnBAg\n",
              "AAAnBAgAwAkBAgBwQoA00qpVqwJdAgAEBAHSSIWFhYEuAQACggABADghQAAATggQAIATAgQA4IQA\n",
              "AQA4IUAAAE4IEACAEwIEAOCEAAEAOCFAAABOCBAAgBMCBADghAABADghQAAATjxmZoEuojUbOniS\n",
              "xoyeIUlaunJCgKsBgObDFQgAwAkBAgBwQoAAAJwQIAAAJwQIAMAJAQIAcEKAAACcECAAACcECADA\n",
              "CQECAHBCgAAAnLSqAFm7dq2OHj1ar2X/+Mc/atmyZf71Jk2adAMrA4C2JzjQBVyqurpawcFXL2nt\n",
              "2rXq2rWr7r333utua9asWY2up6amRkFBQY3eDgDcjAJ+BeLxeLRgwQLFx8crIyND5eXlmjlzphIS\n",
              "EhQbG6u0tDRduHBBr7/+uvbv36+nnnpKPp9PH330kT777DONHDlSgwcPVlRUlBYtWuTf7sKFC5We\n",
              "nn7Ffb755psaNmyYBg8erFGjRunw4cOSLgbU/fffr5/+9KeKiYnR3r1766xXWVmpsrKyOi+rrb1h\n",
              "fQMALVmLuAIJCgrSvn37JElpaWlKTk7Wa6+9JjPTzJkztWrVKv32t7/Vhg0blJ6e7r8dVV5erh07\n",
              "dsjr9aqiokLDhw/XuHHjlJiYeNV9/etf/9Lbb7+trKwseb1eZWdn67HHHtORI0ckSZ9++qlycnI0\n",
              "YMCAH6y7ZMkSPf/883Xm3XXnD5cDgLagRQRIamqq//3777+v3bt3a8WKFZKkioqKq95Gqqio0BNP\n",
              "PKFDhw6pXbt2OnnypA4dOnTNAPnggw90+PBhDRs2zD/v7NmzqqiokCQNHz78iuEhSRkZGXr66afr\n",
              "zLt/1C/rd5AAcJNpEQHSuXNn/3sz06ZNmxQZGXnd9ebNm6cePXooJydHwcHBSklJ0fnz56+5jplp\n",
              "2rRpWrx48XVruZzX65XX660zz9Mu4HcBASAgWty/fpMmTdJLL72k6upqSVJJSYmOHz8uSQoJCVFp\n",
              "aal/2ZKSEvXu3VvBwcHKy8vT9u3br7v9iRMnasOGDSoqKpIk1dbWav/+/TfgSADg5tbiAmTlypXq\n",
              "0KGDfD6fYmNjNXbsWBUUFEi6OD6yePFi/yD6/PnzlZmZqdjYWM2dO1djxoy57vaTk5O1dOlS/eQn\n",
              "P1FcXJwGDhyod9555wYfFQDcfPhN9EbiN9EBtFUt7goEANA6ECAAACcECADACQECAHBCgAAAnBAg\n",
              "AAAnBAgAwAkBAgBwQoAAAJwQIAAAJy3iabyt2aj77tHSFTzCBEDbwxUIAMAJAQIAcEKAAACcECAA\n",
              "ACcECADACQECAHBCgAAAnBAgAAAnBAgAwAkBAgBwQoAAAJwQIAAAJwQIAMAJAQIAcEKAAACcECAA\n",
              "ACcECADACQECAHBCgAAAnBAgAAAnBAgAwAkBAgBwQoAAAJwQIAAAJwQIAMAJAQIAcEKAAACcECAA\n",
              "ACcECADAicfMLNBFtGaPD/QoI75uDkeurQlQNQDQfLgCAQA4IUAAAE4IEACAk+D6LlhWVnbN9pCQ\n",
              "kEYXAwBoPeodIF27dpXH49GlY+7/m/Z4PKqpYeAYANqSegdIbW3tjawDANDKOI2BHDhwQG+++aYk\n",
              "6fvvv9epU6eatCgAQMvX4AD5wx/+oNTUVC1cuFCSVFxcrMcee6yp6wIAtHANDpBXX31Ve/bs8Q+a\n",
              "9+vXT2fOnGnywgAALVuDA8Tr9apDhw515gUH13soBQBwk2hwgNx+++368ssv5fF4JElr165VWFhY\n",
              "kxcGAGjZGnzp8Lvf/U4///nPdfToUfXp00chISHaunVrkxSzcOFCzZ07V7feemuTbA8AcOM4PUyx\n",
              "trZWeXl5MjMNGDBAQUFBTVOMx6OSkhJ17dq1SbZ3PdXV1Y2+/cbDFAG0VU5f4927d682bdqkLVu2\n",
              "aP/+/Vddbvfu3Ro5cqTi4uIUGxurDz74QL/5zW8UHx8vn8+nUaNGKS8vT5I0a9YsSVJycrJ8Pp9O\n",
              "nz6t8vJyzZw5UwkJCYqNjVVaWpouXLggSTp69KiSkpI0cOBApaSk6IEHHtDatWslSadPn1ZKSopi\n",
              "YmIUHR2tV155xV9TeHi4nn32WSUkJGjatGmaMGGC3nrrLX/7tm3bNGzYMJduAYC2xRpo2bJlFhYW\n",
              "Zunp6Zaenm59+/a15cuX/2C54uJiu+OOOywrK8vMzGpqaqy4uNhOnz7tX+btt9+2Bx980D8tyUpK\n",
              "SvzTM2fOtHXr1pmZWW1trU2fPt2WLl1qZmZDhw61N954w8zMvvjiC/N6vZaZmWlmZj/72c9s7ty5\n",
              "Zmb23XffWe/evW337t1mZta3b1+bPn261dbWmpnZtm3bLCkpyb/PiRMn2vr166947OfPn7fS0tI6\n",
              "ryn3yvKmtavzAoC2oMEBEhERYf/5z3/808XFxRYREfGD5bZu3WrJyck/mL9x40ZLTEy0gQMH2o9/\n",
              "/GPr2bPn/xdzWYDcfvvtFh0dbXFxcRYXF2eRkZGWlpZmpaWlFhwcbNXV1f5lx44d6w+Q7t27W35+\n",
              "vr9tzpw59sILL5jZxQDJzs6uU1NUVJQdPHjQCgoK7M4777Tz589f8dgXLFhgkuq84noQIADapgYP\n",
              "AISEhCg0NNQ/3b1793o/SLGoqEizZ8/Wvn371K9fP+Xm5mrUqFHXujrSpk2bFBkZWWf+lR7s+L9v\n",
              "hV3J5W2dO3euMz1nzhytWbNGPXv2VGpqqrxe7xW3k5GRoaeffrrOvNnDbrvqfgHgZlbvMZDc3Fzl\n",
              "5uZqzJgx+tWvfqXs7GxlZ2dr+vTpGjdu3A+WHz58uI4dO6bs7GxJFwfe8/Pz1b59e911110yM/3+\n",
              "97+vs06XLl1UWlrqn540aZJeeuklVVdXS5JKSkp0/PhxhYSEKC4uThs2bJAk5eXl6Z///Kd/vXHj\n",
              "xum1116TJJ05c0abN2/W+PHjr3psU6ZM0d/+9jdlZmb6x2KuxOv1KiQkpM4riAfiA2ij6n0F8sgj\n",
              "j9SZ3rVrl/+9x+PRiy++WKe9W7du2rJli5555hmVl5erXbt2euGFFzR58mQNHDhQoaGhmjRpUp11\n",
              "nnnmGY0fP14dO3bUtm3btHLlSs2dO1c+n0/t2rVTcHCwli5dqv79+2v9+vVKTU3VsmXL1L9/f8XH\n",
              "x/u/vbV69Wr9+te/VkxMjMxMzz333DUHxjt27KiUlBR988036tOnT327BADatFb7m+jnzp1Tp06d\n",
              "5PF4lJ+fr6SkJO3bt88pAGpqajRkyBCtWbNGycnJDVqXr/ECaKucb8BUVlaqrKzM/2pun3zyiXw+\n",
              "n+Li4vTwww9r5cqVTuHx17/+Vf369VNSUlKDwwMA2rIGX4Hs2bNHjz/+uL788ss689vqD0pxBQKg\n",
              "rWrwt7CefPJJrV27VrNmzVJWVpZWr17No0cAoA1q8C2sqqoqDRs2TNXV1erSpYuee+45vfPOOzei\n",
              "NgBAC9bgAGnfvr0kKTQ0VAcPHtSZM2f4PRAAaIMaHCCTJ09WcXGx5s2bp9GjR6tPnz6aMWPGjagN\n",
              "ANCCNeprvFVVVaqoqFB0dLSKioqasq5Wg0F0AG1Vo55l3r59e7Vv316t9L+SAAAaoUkexHGt51AB\n",
              "AG5O9b4Cyc3NvWpbVVVVkxQDAGg9nJ+FdakOHTo0STGtUbcHn1LkihWBLgMAml29AyQ/P/9G1gEA\n",
              "aGV4GDkAwAkBAgBwQoAAAJwQIAAAJwQIAMAJAQIAcEKAAACcECAAACcECADACQECAHBCgAAAnBAg\n",
              "AAAnBAgAwAkBAgBwQoAAAJwQIAAAJwQIAMAJAQIAcEKAAACcECAAACcECADACQECAHBCgAAAnBAg\n",
              "AAAnBAgAwAkBAgBwQoAAAJwQIAAAJwQIAMCJx8ws0EW0Zp0fjFfXyWMDXQYA/MDXj794Q7fPFQgA\n",
              "wAkBAgBwQoAAAJwQIAAAJwQIAMAJAQIAcEKAAACcECAAACcECADACQECAHBCgAAAnLToAPF4PPr+\n",
              "+++bdZ9bt27Vfffd16z7BIDWqEUHSH1VV1cHugQAaHNafIC8/PLLGjRokCIjI7Vx40b/fI/HowUL\n",
              "Fig+Pl4ZGRn67LPPNHLkSA0ePFhRUVFatGiRf9mFCxfq0Ucf1cMPP6yoqCiNGTNGZ8+elSRVVVXp\n",
              "iSeeUEREhBISErRz586r1lJZWamysrI6L9XwMGMAbVNwoAu4Ho/Ho5ycHH311VcaOnSoRowYofDw\n",
              "cElSUFCQ9u3bJ0kqLy/Xjh075PV6VVFRoeHDh2vcuHFKTEyUJH366ac6cOCAQkNDNXnyZL3yyivK\n",
              "yMjQq6++qry8PB05ckSS9OCDD161liVLluj555+vM6/9PXffgKMGgJavxV+BzJgxQ5J0zz33aNSo\n",
              "UcrKyvK3paam+t9XVFRoxowZiomJUWJiogoLC3Xo0CF/+0MPPaTQ0FBJUlJSkk6cOCFJ2rFjh6ZO\n",
              "napbbrlFt9xyS51tXi4jI0OlpaV1Xrf86K6mPFwAaDVa/BXI5Twej/99586d/e/nzZunHj16KCcn\n",
              "R8HBwUpJSdH58+f97bfeeqv/fVBQ0FXHTS7d/uW8Xq+8Xm/dmUFXXx4AbmYt/gokMzNTklRQUKDs\n",
              "7GwlJydfcbmSkhL17t1bwcHBysvL0/bt2+u1/XHjxmnDhg2qqqrShQsX/PsDAFxbi78Cqamp0aBB\n",
              "g/Tf//5Xq1ev9o9/XG7+/PmaMmWK1q1bp379+mnMmDH12v7MmTP1+eefKyoqSt26dVNycrIOHDjQ\n",
              "hEcAADcnfhO9kfhNdAAtFb+JDgBokQgQAIATAgQA4IQAAQA4IUAAAE4IEACAEwIEAOCEAAEAOCFA\n",
              "AABOCBAAgJMW/yysli5tYLJW3ODHBQBAS8QVCADACQECAHBCgAAAnBAgAAAnBAgAwAkBAgBwQoAA\n",
              "AJwQIAAAJwQIAMAJAQIAcEKAAACcECAAACcECADACQECAHDC49wbobKyUh9//LFqamoUFBQU0Fpq\n",
              "amq0d+9eJSQkUAu1UAu1NErfvn315JNPXnc5j5lZM9RzUyorK9Ntt92m0tJShYSEUAu1UAu13JS1\n",
              "XA23sAAATggQAIATAgQA4IQAaQSv16sFCxbI6/UGuhRqoRZqoZZmxyA6AMAJVyAAACcECADACQEC\n",
              "AHBCgAAAnBAgjXDs2DENHz5ckZGRio+P15EjR5p0+3PmzFF4eLg8Ho8OHTpUr/26tl3L+fPnNWnS\n",
              "JEVGRiouLk7jx4/X8ePHJUmnT5/WQw89pIiICEVHRysrK8u/nmvb9TzwwAOKjY2Vz+dTcnKycnJy\n",
              "AtIvl8rMzJTH49H7778fsH4JDw/XgAED5PP55PP59O677wasXyorKzV79mxFREQoJiZGv/zlLwNS\n",
              "S3Fxsb8/fD6fIiMjFRwcrLNnzzb7Z/TRRx9p8ODB8vl8io6O1rp16xq1r8acK03G4Oz++++3zMxM\n",
              "MzP785//bEOHDm3S7e/atctOnjxpffv2tZycnHrt17XtWioqKuzDDz+02tpaMzNbs2aNjR492szM\n",
              "Hn/8cVuwYIGZme3du9d69eplFy5caFTb9ZSUlPjfb9682WJjYxt17I39HPPz8y0pKckSExNty5Yt\n",
              "1z2+G9Uvl58n9Tm+G9Uv6enpNnv2bP85c+rUqYDVcqlly5bZhAkTzKx5P6Pa2lrr1q2bHT582Mwu\n",
              "njNer9fKysoCcq40FQLE0XfffWddunSxqqoqM7t4gvTs2dOOHTvW5Pu69B+Ga+3Xta2h9u3bZ337\n",
              "9jUzs06dOvn/cTAzi4+Pt+3btzeqrSEyMzMtLi4uYP1SU1NjY8eOtf3799vo0aP9ARKIfrlSgASi\n",
              "X86dO2ddunSx0tLSgNdyuXvvvTcgn1Ftba11797ddu3aZWZmhw8ftrvvvtsqKysD/jfUGDyN19HJ\n",
              "kyd11113KTj4Yhd6PB6FhYWpqKhI/fv3D8h+b7vtNqe2hta7atUqPfLIIyouLlZVVZXuvPNOf1t4\n",
              "eLiKioqc2+pr6tSp2rlzp6SLtwYC1S8rVqzQiBEjNGTIEP+8QPeLmSkhIUEvvvhiQPrlxIkT6t69\n",
              "uxYvXqy///3v6tChgxYuXKiuXbsG9Nz95JNPVFJSogkTJjT7Z+TxePTuu+8qJSVFnTp1UklJiTZv\n",
              "3qzy8vKAnStNgTEQNMjixYt1/PhxLVmyJKB1rF+/XidPntSiRYv07LPPBqSGzz//XJs2bdL8+fMD\n",
              "sv/LZWVlKTc3VwcPHlSPHj00bdq0gNRRXV2twsJCRUVFaf/+/Vq9erUeffRRVVdXB6Se//nTn/6k\n",
              "qVOn+oOoOVVXV2vRokXavHmzCgsLtWPHDk2ZMiXgfdJYBIijPn366NSpU/4TwMxUVFSksLCwgO3X\n",
              "ta2+Xn75ZW3evFkff/yxOnbsqNDQUAUHB+vbb7/1L1NQUKCwsDDntoaaNm2adu7cqd69ezd7v2Rn\n",
              "Z6ugoEAREREKDw/Xnj17lJaWpvfeey8g/fK/5dq3b6/09HRlZ2cH5HwJCwtTu3bt9Itf/EKSNGjQ\n",
              "IP3oRz9SYWFhwM7dc+fO6b333lNqaqokNfu5e+jQIX3zzTcaNWqUJCk+Pl69e/dWbm5uwP+GGqVZ\n",
              "b5jdZEaPHl1nYG/IkCE3ZD+X39u+1n5d265n+fLlNnjwYDt79myd+dOmTaszkHf33Xf7B/Jc266l\n",
              "pKTE/v3vf/unt2zZYr169bLa2tqA9MulLh0Dae5+OXfuXJ0vFyxfvtySk5Ove3w3ql/Gjx9vH374\n",
              "oZmZffXVVxYaGmpff/11wD6j119/3UaMGFFnXnN+Rt9++6117tzZvvjiCzMzO3bsmHXr1s0KCwub\n",
              "/VxpSgRIIxw9etQSExMtIiLChgwZYrm5uU26/bS0NOvVq5cFBQXZHXfcYf369bvufl3bruXkyZMm\n",
              "ye655x6Li4uzuLg4S0hIMLOLfxjjx4+3/v37W1RUlP3jH//wr+fadi0FBQUWHx9v0dHRFhsba2PH\n",
              "jvWHa3P3y+UuDZDm7pcTJ06Yz+ezmJgYi46OtokTJ1p+fn7A+uXEiRN23333+T+nv/zlLwGrxcws\n",
              "KSnJ3njjjTrzmvszeuutt/z9ER0dbRs3bgxIHU2JhykCAJwwBgIAcEKAAACcECAAACcECADACQEC\n",
              "AHBCgAAAnBAgAAAnBAgAwAkBAgBwQoAAAJz8H0QTS7lQ22rvAAAAAElFTkSuQmCC\n",
              "\">\n",
              "        \n",
              "      </div>\n",
              "      <script></script>\n",
              "      <script type=\"text/javascript\">\n",
              "        (() => {\n",
              "          const chartElement = document.getElementById(\"chart-fe62fe6f-184c-4c29-8e0e-daaaf917e3e3\");\n",
              "          async function getCodeForChartHandler(event) {\n",
              "            const chartCodeResponse =  await google.colab.kernel.invokeFunction(\n",
              "                'getCodeForChart', [\"chart-fe62fe6f-184c-4c29-8e0e-daaaf917e3e3\"], {});\n",
              "            const responseJson = chartCodeResponse.data['application/json'];\n",
              "            await google.colab.notebook.addCell(responseJson.code, 'code');\n",
              "          }\n",
              "          chartElement.onclick = getCodeForChartHandler;\n",
              "        })();\n",
              "      </script>\n",
              "      <style>\n",
              "        .colab-quickchart-chart-with-code  {\n",
              "            display: block;\n",
              "            float: left;\n",
              "            border: 1px solid transparent;\n",
              "        }\n",
              "\n",
              "        .colab-quickchart-chart-with-code:hover {\n",
              "            cursor: pointer;\n",
              "            border: 1px solid #aaa;\n",
              "        }\n",
              "      </style>"
            ]
          },
          "metadata": {}
        }
      ]
    },
    {
      "cell_type": "markdown",
      "source": [
        "### Model Training"
      ],
      "metadata": {
        "id": "yA9B5dgZzg0m"
      }
    },
    {
      "cell_type": "code",
      "source": [
        "class_weights = []\n",
        "brand_weight = (8464 + 132 + 61) / 8464\n",
        "category_weight = (8464 + 132 + 61) / 132\n",
        "retailer_weight = (8464 + 132 + 61) / 61\n",
        "class_weights = [brand_weight, category_weight, retailer_weight]"
      ],
      "metadata": {
        "id": "wLcCCiD8rXi8"
      },
      "execution_count": null,
      "outputs": []
    },
    {
      "cell_type": "code",
      "source": [
        "class_weights"
      ],
      "metadata": {
        "colab": {
          "base_uri": "https://localhost:8080/"
        },
        "id": "pgWEriRd6hFD",
        "outputId": "f1c45ea2-6f47-4101-f227-a2bc8d965076"
      },
      "execution_count": null,
      "outputs": [
        {
          "output_type": "execute_result",
          "data": {
            "text/plain": [
              "tensor([  1.0228,  65.5833, 141.9180], device='cuda:0')"
            ]
          },
          "metadata": {},
          "execution_count": 72
        }
      ]
    },
    {
      "cell_type": "code",
      "source": [
        "# df"
      ],
      "metadata": {
        "id": "pBKvYSpR6lu9"
      },
      "execution_count": null,
      "outputs": []
    },
    {
      "cell_type": "code",
      "source": [
        "device = torch.device(\"cuda\" if torch.cuda.is_available() else \"cpu\")\n",
        "\n",
        "class_weights = torch.tensor(class_weights).to(device)\n",
        "custom_loss = torch.nn.CrossEntropyLoss(weight=class_weights)\n",
        "\n",
        "# Encode the labels and add a new column for encoded labels\n",
        "label_encoder = LabelEncoder()\n",
        "df['encoded_label'] = label_encoder.fit_transform(df['Label'])\n",
        "\n",
        "# Define a custom dataset class\n",
        "class CustomDataset(Dataset):\n",
        "    def __init__(self, dataframe, tokenizer, max_length=10):\n",
        "        self.data = dataframe\n",
        "        self.tokenizer = tokenizer\n",
        "        self.max_length = max_length\n",
        "\n",
        "    def __len__(self):\n",
        "        return len(self.data)\n",
        "\n",
        "    def __getitem__(self, idx):\n",
        "        text = self.data.iloc[idx]['Element']\n",
        "        label = self.data.iloc[idx]['encoded_label']\n",
        "        encoding = self.tokenizer(\n",
        "            text,\n",
        "            truncation=True,\n",
        "            padding='max_length',\n",
        "            max_length=self.max_length,\n",
        "            return_tensors='pt'\n",
        "        )\n",
        "\n",
        "        return {\n",
        "            'input_ids': encoding['input_ids'].squeeze(),\n",
        "            'attention_mask': encoding['attention_mask'].squeeze(),\n",
        "            'labels': torch.tensor(label)\n",
        "        }\n",
        "\n",
        "\n",
        "\n",
        "# Initialize the BERT tokenizer and model\n",
        "tokenizer = BertTokenizer.from_pretrained('bert-base-uncased')\n",
        "model = BertForSequenceClassification.from_pretrained('bert-base-uncased', num_labels=len(df['encoded_label'].unique()))\n",
        "model.to(device)\n",
        "\n",
        "# Split the data into train and validation sets with a seed value\n",
        "train_df, val_df = train_test_split(df, test_size=0.25, random_state=42)\n",
        "\n",
        "# Create training and validation data loaders\n",
        "train_dataset = CustomDataset(train_df, tokenizer)\n",
        "val_dataset = CustomDataset(val_df, tokenizer)\n",
        "train_loader = DataLoader(train_dataset, batch_size=4, shuffle=True)\n",
        "val_loader = DataLoader(val_dataset, batch_size=4)\n",
        "\n",
        "# Define the optimizer and training parameters\n",
        "optimizer = AdamW(model.parameters(), lr=1e-5)\n",
        "num_epochs = 5\n",
        "\n",
        "#  Training loop with progress bar\n",
        "for epoch in range(num_epochs):\n",
        "    model.train()\n",
        "    total_loss = 0\n",
        "    tqdm_loader = tqdm(train_loader, desc=f'Epoch {epoch + 1}/{num_epochs}')\n",
        "    for batch in tqdm_loader:\n",
        "        input_ids = batch['input_ids'].to(device)  # Move input data to GPU\n",
        "        attention_mask = batch['attention_mask'].to(device)  # Move attention mask to GPU\n",
        "        labels = batch['labels'].to(device)  # Move labels to GPU\n",
        "\n",
        "        optimizer.zero_grad()\n",
        "        outputs = model(input_ids, attention_mask=attention_mask, labels=labels)\n",
        "        logits = outputs['logits'].to(device)\n",
        "        # loss = outputs.loss\n",
        "        loss = custom_loss(logits, labels)\n",
        "        loss.backward()\n",
        "        optimizer.step()\n",
        "        total_loss += loss.item()\n",
        "\n",
        "        tqdm_loader.set_postfix({'Loss': loss.item()})\n",
        "\n",
        "    avg_loss = total_loss / len(train_loader)\n",
        "    print(f\"Epoch {epoch + 1}/{num_epochs}, Average Loss: {avg_loss:.4f}\")\n",
        "\n"
      ],
      "metadata": {
        "id": "XKcThUmrpzro",
        "colab": {
          "base_uri": "https://localhost:8080/"
        },
        "outputId": "718017da-fb08-427e-b133-9332214bad0d"
      },
      "execution_count": null,
      "outputs": [
        {
          "output_type": "stream",
          "name": "stderr",
          "text": [
            "Some weights of BertForSequenceClassification were not initialized from the model checkpoint at bert-base-uncased and are newly initialized: ['classifier.weight', 'classifier.bias']\n",
            "You should probably TRAIN this model on a down-stream task to be able to use it for predictions and inference.\n",
            "/usr/local/lib/python3.10/dist-packages/transformers/optimization.py:411: FutureWarning: This implementation of AdamW is deprecated and will be removed in a future version. Use the PyTorch implementation torch.optim.AdamW instead, or set `no_deprecation_warning=True` to disable this warning\n",
            "  warnings.warn(\n",
            "Epoch 1/5: 100%|██████████| 1623/1623 [02:06<00:00, 12.80it/s, Loss=0.0307]\n"
          ]
        },
        {
          "output_type": "stream",
          "name": "stdout",
          "text": [
            "Epoch 1/5, Average Loss: 0.2510\n"
          ]
        },
        {
          "output_type": "stream",
          "name": "stderr",
          "text": [
            "Epoch 2/5: 100%|██████████| 1623/1623 [02:03<00:00, 13.16it/s, Loss=0.184]\n"
          ]
        },
        {
          "output_type": "stream",
          "name": "stdout",
          "text": [
            "Epoch 2/5, Average Loss: 0.1462\n"
          ]
        },
        {
          "output_type": "stream",
          "name": "stderr",
          "text": [
            "Epoch 3/5: 100%|██████████| 1623/1623 [02:03<00:00, 13.18it/s, Loss=0.00385]\n"
          ]
        },
        {
          "output_type": "stream",
          "name": "stdout",
          "text": [
            "Epoch 3/5, Average Loss: 0.0891\n"
          ]
        },
        {
          "output_type": "stream",
          "name": "stderr",
          "text": [
            "Epoch 4/5: 100%|██████████| 1623/1623 [02:08<00:00, 12.67it/s, Loss=0.00073]\n"
          ]
        },
        {
          "output_type": "stream",
          "name": "stdout",
          "text": [
            "Epoch 4/5, Average Loss: 0.0498\n"
          ]
        },
        {
          "output_type": "stream",
          "name": "stderr",
          "text": [
            "Epoch 5/5: 100%|██████████| 1623/1623 [02:03<00:00, 13.15it/s, Loss=0.000781]"
          ]
        },
        {
          "output_type": "stream",
          "name": "stdout",
          "text": [
            "Epoch 5/5, Average Loss: 0.0486\n"
          ]
        },
        {
          "output_type": "stream",
          "name": "stderr",
          "text": [
            "\n"
          ]
        }
      ]
    },
    {
      "cell_type": "code",
      "source": [
        "# Evaluation loop\n",
        "model.eval()\n",
        "predictions = []\n",
        "true_labels = []\n",
        "\n",
        "with torch.no_grad():\n",
        "    for batch in val_loader:\n",
        "        input_ids = batch['input_ids'].to(device)  # Move input data to GPU\n",
        "        attention_mask = batch['attention_mask'].to(device)  # Move attention mask to GPU\n",
        "        labels = batch['labels'].to(device)  # Move labels to GPU\n",
        "\n",
        "        outputs = model(input_ids, attention_mask=attention_mask)\n",
        "        logits = outputs.logits\n",
        "        predicted_labels = torch.argmax(logits, dim=1)\n",
        "\n",
        "        predictions.extend(predicted_labels.tolist())\n",
        "        true_labels.extend(labels.tolist())\n",
        "\n",
        "# Generate the classification report\n",
        "target_names = label_encoder.classes_\n",
        "classification_rep = classification_report(true_labels, predictions, target_names=target_names)\n",
        "\n",
        "# Print the classification report\n",
        "print(classification_rep)"
      ],
      "metadata": {
        "colab": {
          "base_uri": "https://localhost:8080/"
        },
        "id": "ut2Dud30zuBw",
        "outputId": "79a91af1-b25e-41f1-ca07-d63997604e41"
      },
      "execution_count": null,
      "outputs": [
        {
          "output_type": "stream",
          "name": "stdout",
          "text": [
            "              precision    recall  f1-score   support\n",
            "\n",
            "       brand       0.99      0.98      0.99      2115\n",
            "    category       0.69      0.81      0.74        36\n",
            "    retailer       0.10      0.21      0.14        14\n",
            "\n",
            "    accuracy                           0.97      2165\n",
            "   macro avg       0.59      0.67      0.62      2165\n",
            "weighted avg       0.98      0.97      0.98      2165\n",
            "\n"
          ]
        }
      ]
    },
    {
      "cell_type": "markdown",
      "source": [
        "Saving model to disk for future use"
      ],
      "metadata": {
        "id": "G2ZOpcIL9Zkh"
      }
    },
    {
      "cell_type": "code",
      "source": [
        "root = '/content/drive/MyDrive/Fetch_technical_assessment/'"
      ],
      "metadata": {
        "id": "GszoSxZ_GKiu"
      },
      "execution_count": null,
      "outputs": []
    },
    {
      "cell_type": "code",
      "source": [
        "import json\n",
        "# Save the model and tokenizer\n",
        "model.save_pretrained(root + \"bert_classification_model\")  # Save the model's weights and configuration\n",
        "tokenizer.save_pretrained(root + \"bert_classification_model\")  # Save the tokenizer's vocabulary\n",
        "\n",
        "model_info = {\n",
        "    \"label_encoder\": label_encoder.classes_.tolist(),\n",
        "    \"max_length\": 10,  # Replace with your max_length\n",
        "    \"num_epochs\": num_epochs,\n",
        "    \"learning_rate\": 1e-5,\n",
        "}\n",
        "with open(root + \"bert_classification_model/model_info.json\", \"w\") as info_file:\n",
        "    json.dump(model_info, info_file)"
      ],
      "metadata": {
        "id": "IlvlbbfwxYib"
      },
      "execution_count": null,
      "outputs": []
    },
    {
      "cell_type": "markdown",
      "source": [
        "### Inference"
      ],
      "metadata": {
        "id": "5SmO4mv1zRZq"
      }
    },
    {
      "cell_type": "code",
      "source": [
        "root = '/content/drive/MyDrive/Fetch_technical_assessment/'"
      ],
      "metadata": {
        "id": "2jF9HjHBzDHl"
      },
      "execution_count": null,
      "outputs": []
    },
    {
      "cell_type": "code",
      "source": [
        "# Load the tokenizer and model\n",
        "load_tokenizer = BertTokenizer.from_pretrained(root + \"bert_classification_model\")\n",
        "load_model = BertForSequenceClassification.from_pretrained(root + \"bert_classification_model\")\n",
        "\n",
        "# Load additional information (if saved)\n",
        "model_info = {}\n",
        "with open(root + \"bert_classification_model/model_info.json\", \"r\") as info_file:\n",
        "    model_info = json.load(info_file)\n",
        "\n",
        "# Ensure the model is in evaluation mode\n",
        "load_model.eval()\n",
        "\n",
        "# Perform inference on a new text\n",
        "text_to_classify = \"pasta noodles\"\n",
        "inputs = load_tokenizer(text_to_classify, return_tensors=\"pt\", truncation=True, padding=True)\n",
        "with torch.no_grad():\n",
        "    outputs = load_model(**inputs)\n",
        "\n",
        "# Extract predicted class probabilities or labels\n",
        "logits = outputs.logits\n",
        "predicted_probabilities = torch.softmax(logits, dim=1)\n",
        "predicted_labels = torch.argmax(logits, dim=1)\n",
        "\n",
        "# Map the predicted label to the original class name (if needed)\n",
        "predicted_class = model_info[\"label_encoder\"][predicted_labels.item()]\n",
        "\n",
        "print(f\"Predicted Class: {predicted_class}\")\n",
        "print(f\"Predicted Probabilities: {predicted_probabilities.tolist()[0]}\")\n"
      ],
      "metadata": {
        "colab": {
          "base_uri": "https://localhost:8080/"
        },
        "id": "dzghQIJqxch1",
        "outputId": "a0a434bf-1b3f-4ab1-b9fa-6ed7d6d9f4a7"
      },
      "execution_count": null,
      "outputs": [
        {
          "output_type": "stream",
          "name": "stdout",
          "text": [
            "Predicted Class: category\n",
            "Predicted Probabilities: [0.002923752414062619, 0.9926780462265015, 0.00439823605120182]\n"
          ]
        }
      ]
    },
    {
      "cell_type": "markdown",
      "source": [
        "## Search"
      ],
      "metadata": {
        "id": "Rer7NW4UQ7qo"
      }
    },
    {
      "cell_type": "code",
      "source": [
        "USER_INPUT = 'equate'"
      ],
      "metadata": {
        "id": "droSGqfdQ-8P"
      },
      "execution_count": null,
      "outputs": []
    },
    {
      "cell_type": "code",
      "source": [
        "ROOT = '/content/drive/MyDrive/Fetch_technical_assessment/'"
      ],
      "metadata": {
        "id": "Hg4NO21IQ_QS"
      },
      "execution_count": null,
      "outputs": []
    },
    {
      "cell_type": "code",
      "source": [
        "def classify_input(input, root=ROOT):\n",
        "    # Load the tokenizer and model\n",
        "    load_tokenizer = BertTokenizer.from_pretrained(root + \"bert_classification_model\")\n",
        "    load_model = BertForSequenceClassification.from_pretrained(root + \"bert_classification_model\")\n",
        "\n",
        "    # Load additional information (if saved)\n",
        "    model_info = {}\n",
        "    with open(root + \"bert_classification_model/model_info.json\", \"r\") as info_file:\n",
        "        model_info = json.load(info_file)\n",
        "\n",
        "    # Ensure the model is in evaluation mode\n",
        "    load_model.eval()\n",
        "\n",
        "    # Perform inference on a new text\n",
        "    text_to_classify = \"bai\"\n",
        "    inputs = load_tokenizer(text_to_classify, return_tensors=\"pt\", truncation=True, padding=True)\n",
        "    with torch.no_grad():\n",
        "        outputs = load_model(**inputs)\n",
        "\n",
        "    # Extract predicted class probabilities or labels\n",
        "    logits = outputs.logits\n",
        "    predicted_probabilities = torch.softmax(logits, dim=1)\n",
        "    predicted_labels = torch.argmax(logits, dim=1)\n",
        "\n",
        "    # Map the predicted label to the original class name (if needed)\n",
        "    predicted_class = model_info[\"label_encoder\"][predicted_labels.item()]\n",
        "\n",
        "    # print(f\"Predicted Class: {predicted_class}\")\n",
        "    # print(f\"Predicted Probabilities: {predicted_probabilities.tolist()[0]}\")\n",
        "\n",
        "    return predicted_class\n"
      ],
      "metadata": {
        "id": "0qd3rBmYQtrT"
      },
      "execution_count": null,
      "outputs": []
    },
    {
      "cell_type": "code",
      "source": [
        "classify_input(USER_INPUT)"
      ],
      "metadata": {
        "colab": {
          "base_uri": "https://localhost:8080/",
          "height": 35
        },
        "id": "PAi2k-ju8_MW",
        "outputId": "db8e2124-16ac-4203-fba6-7fcaa7fb49d6"
      },
      "execution_count": null,
      "outputs": [
        {
          "output_type": "execute_result",
          "data": {
            "text/plain": [
              "'retailer'"
            ],
            "application/vnd.google.colaboratory.intrinsic+json": {
              "type": "string"
            }
          },
          "metadata": {},
          "execution_count": 20
        }
      ]
    },
    {
      "cell_type": "code",
      "source": [
        "def brand_search(brand):\n",
        "    offers = []\n",
        "    offers.extend(list(set(df_offers[df_offers['BRAND'] == brand]['OFFER'])))\n",
        "\n",
        "\n",
        "\n",
        "    return offers\n"
      ],
      "metadata": {
        "id": "yXGovNDs8_Y4"
      },
      "execution_count": null,
      "outputs": []
    },
    {
      "cell_type": "code",
      "source": [
        "brand_search('good humor')"
      ],
      "metadata": {
        "colab": {
          "base_uri": "https://localhost:8080/"
        },
        "id": "071kp47ATHEe",
        "outputId": "c10ff1ee-c168-4d4a-d713-1f017985bc83"
      },
      "execution_count": null,
      "outputs": [
        {
          "output_type": "execute_result",
          "data": {
            "text/plain": [
              "['Good Humor Viennetta Frozen Vanilla Cake',\n",
              " \"Reese's Peanut Butter Bar, 6 count, at GIANT OR MARTIN’S\"]"
            ]
          },
          "metadata": {},
          "execution_count": 90
        }
      ]
    },
    {
      "cell_type": "code",
      "source": [
        "len(list(set(df_offers['BRAND'])))"
      ],
      "metadata": {
        "colab": {
          "base_uri": "https://localhost:8080/"
        },
        "id": "sB7HeFqJ8_mH",
        "outputId": "3b580f8e-62f1-4e28-b9e4-800fa49d6b39"
      },
      "execution_count": null,
      "outputs": [
        {
          "output_type": "execute_result",
          "data": {
            "text/plain": [
              "144"
            ]
          },
          "metadata": {},
          "execution_count": 49
        }
      ]
    },
    {
      "cell_type": "code",
      "source": [
        "len(list(set(df_brands['BRAND'])))"
      ],
      "metadata": {
        "colab": {
          "base_uri": "https://localhost:8080/"
        },
        "id": "Kr_GxvxhSTlK",
        "outputId": "48b846c8-7d80-40f4-a595-7abbbf2bb401"
      },
      "execution_count": null,
      "outputs": [
        {
          "output_type": "execute_result",
          "data": {
            "text/plain": [
              "8396"
            ]
          },
          "metadata": {},
          "execution_count": 50
        }
      ]
    },
    {
      "cell_type": "code",
      "source": [],
      "metadata": {
        "id": "lvZ8PEg_V2Fa"
      },
      "execution_count": null,
      "outputs": []
    },
    {
      "cell_type": "code",
      "source": [
        "merged_df = df_brands.merge(df_offers, on='BRAND', how='outer')"
      ],
      "metadata": {
        "id": "AiIBJRpRVtys"
      },
      "execution_count": null,
      "outputs": []
    },
    {
      "cell_type": "code",
      "source": [
        "merged_df = merged_df.sample(frac=1, random_state=random.seed())"
      ],
      "metadata": {
        "id": "9r1Ydtq_V2r_"
      },
      "execution_count": null,
      "outputs": []
    },
    {
      "cell_type": "code",
      "source": [
        "merged_df"
      ],
      "metadata": {
        "colab": {
          "base_uri": "https://localhost:8080/",
          "height": 1083
        },
        "id": "i083XTp8YRsu",
        "outputId": "ee433508-6f3a-4594-d234-206f72a047c1"
      },
      "execution_count": null,
      "outputs": [
        {
          "output_type": "execute_result",
          "data": {
            "text/plain": [
              "                                              BRAND BRAND_BELONGS_TO_CATEGORY  \\\n",
              "10366                               matahiwi estate                      wine   \n",
              "8173                                 menage a trois                      wine   \n",
              "7196   devils backbone crab cakes and football sess                      beer   \n",
              "3349                                   wright bacon                     chips   \n",
              "6733                                      happy dad            malt beverages   \n",
              "...                                             ...                       ...   \n",
              "914                                      red stripe                      beer   \n",
              "2974                               olde english 800            malt beverages   \n",
              "2537                             powerade zero ion4             sports drinks   \n",
              "10098                                   phase three                      beer   \n",
              "9982                                          crave                   spirits   \n",
              "\n",
              "       RECEIPTS OFFER RETAILER OFFER_PREPROCESSED  \n",
              "10366      11.0   NaN      NaN                NaN  \n",
              "8173       25.0   NaN      NaN                NaN  \n",
              "7196       38.0   NaN      NaN                NaN  \n",
              "3349      410.0   NaN      NaN                NaN  \n",
              "6733       48.0   NaN      NaN                NaN  \n",
              "...         ...   ...      ...                ...  \n",
              "914      6887.0   NaN      NaN                NaN  \n",
              "2974      599.0   NaN      NaN                NaN  \n",
              "2537      940.0   NaN      NaN                NaN  \n",
              "10098      12.0   NaN      NaN                NaN  \n",
              "9982       12.0   NaN      NaN                NaN  \n",
              "\n",
              "[10465 rows x 6 columns]"
            ],
            "text/html": [
              "\n",
              "  <div id=\"df-79640df3-5c6b-4b5f-8200-82d437c688e2\" class=\"colab-df-container\">\n",
              "    <div>\n",
              "<style scoped>\n",
              "    .dataframe tbody tr th:only-of-type {\n",
              "        vertical-align: middle;\n",
              "    }\n",
              "\n",
              "    .dataframe tbody tr th {\n",
              "        vertical-align: top;\n",
              "    }\n",
              "\n",
              "    .dataframe thead th {\n",
              "        text-align: right;\n",
              "    }\n",
              "</style>\n",
              "<table border=\"1\" class=\"dataframe\">\n",
              "  <thead>\n",
              "    <tr style=\"text-align: right;\">\n",
              "      <th></th>\n",
              "      <th>BRAND</th>\n",
              "      <th>BRAND_BELONGS_TO_CATEGORY</th>\n",
              "      <th>RECEIPTS</th>\n",
              "      <th>OFFER</th>\n",
              "      <th>RETAILER</th>\n",
              "      <th>OFFER_PREPROCESSED</th>\n",
              "    </tr>\n",
              "  </thead>\n",
              "  <tbody>\n",
              "    <tr>\n",
              "      <th>10366</th>\n",
              "      <td>matahiwi estate</td>\n",
              "      <td>wine</td>\n",
              "      <td>11.0</td>\n",
              "      <td>NaN</td>\n",
              "      <td>NaN</td>\n",
              "      <td>NaN</td>\n",
              "    </tr>\n",
              "    <tr>\n",
              "      <th>8173</th>\n",
              "      <td>menage a trois</td>\n",
              "      <td>wine</td>\n",
              "      <td>25.0</td>\n",
              "      <td>NaN</td>\n",
              "      <td>NaN</td>\n",
              "      <td>NaN</td>\n",
              "    </tr>\n",
              "    <tr>\n",
              "      <th>7196</th>\n",
              "      <td>devils backbone crab cakes and football sess</td>\n",
              "      <td>beer</td>\n",
              "      <td>38.0</td>\n",
              "      <td>NaN</td>\n",
              "      <td>NaN</td>\n",
              "      <td>NaN</td>\n",
              "    </tr>\n",
              "    <tr>\n",
              "      <th>3349</th>\n",
              "      <td>wright bacon</td>\n",
              "      <td>chips</td>\n",
              "      <td>410.0</td>\n",
              "      <td>NaN</td>\n",
              "      <td>NaN</td>\n",
              "      <td>NaN</td>\n",
              "    </tr>\n",
              "    <tr>\n",
              "      <th>6733</th>\n",
              "      <td>happy dad</td>\n",
              "      <td>malt beverages</td>\n",
              "      <td>48.0</td>\n",
              "      <td>NaN</td>\n",
              "      <td>NaN</td>\n",
              "      <td>NaN</td>\n",
              "    </tr>\n",
              "    <tr>\n",
              "      <th>...</th>\n",
              "      <td>...</td>\n",
              "      <td>...</td>\n",
              "      <td>...</td>\n",
              "      <td>...</td>\n",
              "      <td>...</td>\n",
              "      <td>...</td>\n",
              "    </tr>\n",
              "    <tr>\n",
              "      <th>914</th>\n",
              "      <td>red stripe</td>\n",
              "      <td>beer</td>\n",
              "      <td>6887.0</td>\n",
              "      <td>NaN</td>\n",
              "      <td>NaN</td>\n",
              "      <td>NaN</td>\n",
              "    </tr>\n",
              "    <tr>\n",
              "      <th>2974</th>\n",
              "      <td>olde english 800</td>\n",
              "      <td>malt beverages</td>\n",
              "      <td>599.0</td>\n",
              "      <td>NaN</td>\n",
              "      <td>NaN</td>\n",
              "      <td>NaN</td>\n",
              "    </tr>\n",
              "    <tr>\n",
              "      <th>2537</th>\n",
              "      <td>powerade zero ion4</td>\n",
              "      <td>sports drinks</td>\n",
              "      <td>940.0</td>\n",
              "      <td>NaN</td>\n",
              "      <td>NaN</td>\n",
              "      <td>NaN</td>\n",
              "    </tr>\n",
              "    <tr>\n",
              "      <th>10098</th>\n",
              "      <td>phase three</td>\n",
              "      <td>beer</td>\n",
              "      <td>12.0</td>\n",
              "      <td>NaN</td>\n",
              "      <td>NaN</td>\n",
              "      <td>NaN</td>\n",
              "    </tr>\n",
              "    <tr>\n",
              "      <th>9982</th>\n",
              "      <td>crave</td>\n",
              "      <td>spirits</td>\n",
              "      <td>12.0</td>\n",
              "      <td>NaN</td>\n",
              "      <td>NaN</td>\n",
              "      <td>NaN</td>\n",
              "    </tr>\n",
              "  </tbody>\n",
              "</table>\n",
              "<p>10465 rows × 6 columns</p>\n",
              "</div>\n",
              "    <div class=\"colab-df-buttons\">\n",
              "\n",
              "  <div class=\"colab-df-container\">\n",
              "    <button class=\"colab-df-convert\" onclick=\"convertToInteractive('df-79640df3-5c6b-4b5f-8200-82d437c688e2')\"\n",
              "            title=\"Convert this dataframe to an interactive table.\"\n",
              "            style=\"display:none;\">\n",
              "\n",
              "  <svg xmlns=\"http://www.w3.org/2000/svg\" height=\"24px\" viewBox=\"0 -960 960 960\">\n",
              "    <path d=\"M120-120v-720h720v720H120Zm60-500h600v-160H180v160Zm220 220h160v-160H400v160Zm0 220h160v-160H400v160ZM180-400h160v-160H180v160Zm440 0h160v-160H620v160ZM180-180h160v-160H180v160Zm440 0h160v-160H620v160Z\"/>\n",
              "  </svg>\n",
              "    </button>\n",
              "\n",
              "  <style>\n",
              "    .colab-df-container {\n",
              "      display:flex;\n",
              "      gap: 12px;\n",
              "    }\n",
              "\n",
              "    .colab-df-convert {\n",
              "      background-color: #E8F0FE;\n",
              "      border: none;\n",
              "      border-radius: 50%;\n",
              "      cursor: pointer;\n",
              "      display: none;\n",
              "      fill: #1967D2;\n",
              "      height: 32px;\n",
              "      padding: 0 0 0 0;\n",
              "      width: 32px;\n",
              "    }\n",
              "\n",
              "    .colab-df-convert:hover {\n",
              "      background-color: #E2EBFA;\n",
              "      box-shadow: 0px 1px 2px rgba(60, 64, 67, 0.3), 0px 1px 3px 1px rgba(60, 64, 67, 0.15);\n",
              "      fill: #174EA6;\n",
              "    }\n",
              "\n",
              "    .colab-df-buttons div {\n",
              "      margin-bottom: 4px;\n",
              "    }\n",
              "\n",
              "    [theme=dark] .colab-df-convert {\n",
              "      background-color: #3B4455;\n",
              "      fill: #D2E3FC;\n",
              "    }\n",
              "\n",
              "    [theme=dark] .colab-df-convert:hover {\n",
              "      background-color: #434B5C;\n",
              "      box-shadow: 0px 1px 3px 1px rgba(0, 0, 0, 0.15);\n",
              "      filter: drop-shadow(0px 1px 2px rgba(0, 0, 0, 0.3));\n",
              "      fill: #FFFFFF;\n",
              "    }\n",
              "  </style>\n",
              "\n",
              "    <script>\n",
              "      const buttonEl =\n",
              "        document.querySelector('#df-79640df3-5c6b-4b5f-8200-82d437c688e2 button.colab-df-convert');\n",
              "      buttonEl.style.display =\n",
              "        google.colab.kernel.accessAllowed ? 'block' : 'none';\n",
              "\n",
              "      async function convertToInteractive(key) {\n",
              "        const element = document.querySelector('#df-79640df3-5c6b-4b5f-8200-82d437c688e2');\n",
              "        const dataTable =\n",
              "          await google.colab.kernel.invokeFunction('convertToInteractive',\n",
              "                                                    [key], {});\n",
              "        if (!dataTable) return;\n",
              "\n",
              "        const docLinkHtml = 'Like what you see? Visit the ' +\n",
              "          '<a target=\"_blank\" href=https://colab.research.google.com/notebooks/data_table.ipynb>data table notebook</a>'\n",
              "          + ' to learn more about interactive tables.';\n",
              "        element.innerHTML = '';\n",
              "        dataTable['output_type'] = 'display_data';\n",
              "        await google.colab.output.renderOutput(dataTable, element);\n",
              "        const docLink = document.createElement('div');\n",
              "        docLink.innerHTML = docLinkHtml;\n",
              "        element.appendChild(docLink);\n",
              "      }\n",
              "    </script>\n",
              "  </div>\n",
              "\n",
              "\n",
              "<div id=\"df-29f5796a-250c-4eb3-ad10-c12826a6822a\">\n",
              "  <button class=\"colab-df-quickchart\" onclick=\"quickchart('df-29f5796a-250c-4eb3-ad10-c12826a6822a')\"\n",
              "            title=\"Suggest charts.\"\n",
              "            style=\"display:none;\">\n",
              "\n",
              "<svg xmlns=\"http://www.w3.org/2000/svg\" height=\"24px\"viewBox=\"0 0 24 24\"\n",
              "     width=\"24px\">\n",
              "    <g>\n",
              "        <path d=\"M19 3H5c-1.1 0-2 .9-2 2v14c0 1.1.9 2 2 2h14c1.1 0 2-.9 2-2V5c0-1.1-.9-2-2-2zM9 17H7v-7h2v7zm4 0h-2V7h2v10zm4 0h-2v-4h2v4z\"/>\n",
              "    </g>\n",
              "</svg>\n",
              "  </button>\n",
              "\n",
              "<style>\n",
              "  .colab-df-quickchart {\n",
              "      --bg-color: #E8F0FE;\n",
              "      --fill-color: #1967D2;\n",
              "      --hover-bg-color: #E2EBFA;\n",
              "      --hover-fill-color: #174EA6;\n",
              "      --disabled-fill-color: #AAA;\n",
              "      --disabled-bg-color: #DDD;\n",
              "  }\n",
              "\n",
              "  [theme=dark] .colab-df-quickchart {\n",
              "      --bg-color: #3B4455;\n",
              "      --fill-color: #D2E3FC;\n",
              "      --hover-bg-color: #434B5C;\n",
              "      --hover-fill-color: #FFFFFF;\n",
              "      --disabled-bg-color: #3B4455;\n",
              "      --disabled-fill-color: #666;\n",
              "  }\n",
              "\n",
              "  .colab-df-quickchart {\n",
              "    background-color: var(--bg-color);\n",
              "    border: none;\n",
              "    border-radius: 50%;\n",
              "    cursor: pointer;\n",
              "    display: none;\n",
              "    fill: var(--fill-color);\n",
              "    height: 32px;\n",
              "    padding: 0;\n",
              "    width: 32px;\n",
              "  }\n",
              "\n",
              "  .colab-df-quickchart:hover {\n",
              "    background-color: var(--hover-bg-color);\n",
              "    box-shadow: 0 1px 2px rgba(60, 64, 67, 0.3), 0 1px 3px 1px rgba(60, 64, 67, 0.15);\n",
              "    fill: var(--button-hover-fill-color);\n",
              "  }\n",
              "\n",
              "  .colab-df-quickchart-complete:disabled,\n",
              "  .colab-df-quickchart-complete:disabled:hover {\n",
              "    background-color: var(--disabled-bg-color);\n",
              "    fill: var(--disabled-fill-color);\n",
              "    box-shadow: none;\n",
              "  }\n",
              "\n",
              "  .colab-df-spinner {\n",
              "    border: 2px solid var(--fill-color);\n",
              "    border-color: transparent;\n",
              "    border-bottom-color: var(--fill-color);\n",
              "    animation:\n",
              "      spin 1s steps(1) infinite;\n",
              "  }\n",
              "\n",
              "  @keyframes spin {\n",
              "    0% {\n",
              "      border-color: transparent;\n",
              "      border-bottom-color: var(--fill-color);\n",
              "      border-left-color: var(--fill-color);\n",
              "    }\n",
              "    20% {\n",
              "      border-color: transparent;\n",
              "      border-left-color: var(--fill-color);\n",
              "      border-top-color: var(--fill-color);\n",
              "    }\n",
              "    30% {\n",
              "      border-color: transparent;\n",
              "      border-left-color: var(--fill-color);\n",
              "      border-top-color: var(--fill-color);\n",
              "      border-right-color: var(--fill-color);\n",
              "    }\n",
              "    40% {\n",
              "      border-color: transparent;\n",
              "      border-right-color: var(--fill-color);\n",
              "      border-top-color: var(--fill-color);\n",
              "    }\n",
              "    60% {\n",
              "      border-color: transparent;\n",
              "      border-right-color: var(--fill-color);\n",
              "    }\n",
              "    80% {\n",
              "      border-color: transparent;\n",
              "      border-right-color: var(--fill-color);\n",
              "      border-bottom-color: var(--fill-color);\n",
              "    }\n",
              "    90% {\n",
              "      border-color: transparent;\n",
              "      border-bottom-color: var(--fill-color);\n",
              "    }\n",
              "  }\n",
              "</style>\n",
              "\n",
              "  <script>\n",
              "    async function quickchart(key) {\n",
              "      const quickchartButtonEl =\n",
              "        document.querySelector('#' + key + ' button');\n",
              "      quickchartButtonEl.disabled = true;  // To prevent multiple clicks.\n",
              "      quickchartButtonEl.classList.add('colab-df-spinner');\n",
              "      try {\n",
              "        const charts = await google.colab.kernel.invokeFunction(\n",
              "            'suggestCharts', [key], {});\n",
              "      } catch (error) {\n",
              "        console.error('Error during call to suggestCharts:', error);\n",
              "      }\n",
              "      quickchartButtonEl.classList.remove('colab-df-spinner');\n",
              "      quickchartButtonEl.classList.add('colab-df-quickchart-complete');\n",
              "    }\n",
              "    (() => {\n",
              "      let quickchartButtonEl =\n",
              "        document.querySelector('#df-29f5796a-250c-4eb3-ad10-c12826a6822a button');\n",
              "      quickchartButtonEl.style.display =\n",
              "        google.colab.kernel.accessAllowed ? 'block' : 'none';\n",
              "    })();\n",
              "  </script>\n",
              "</div>\n",
              "    </div>\n",
              "  </div>\n"
            ]
          },
          "metadata": {},
          "execution_count": 96
        }
      ]
    },
    {
      "cell_type": "code",
      "source": [
        "(merged_df.notna().all(axis=1)).sum()"
      ],
      "metadata": {
        "colab": {
          "base_uri": "https://localhost:8080/"
        },
        "id": "1xpR0J2YXqt4",
        "outputId": "828ece88-76e8-4d07-cf86-ad0be0cf6212"
      },
      "execution_count": null,
      "outputs": [
        {
          "output_type": "execute_result",
          "data": {
            "text/plain": [
              "837"
            ]
          },
          "metadata": {},
          "execution_count": 120
        }
      ]
    },
    {
      "cell_type": "markdown",
      "source": [
        "## TEST"
      ],
      "metadata": {
        "id": "erZ-Iq8OdS-6"
      }
    },
    {
      "cell_type": "code",
      "source": [
        "# !pip install transformers"
      ],
      "metadata": {
        "id": "5eQhE2C4uP0n"
      },
      "execution_count": null,
      "outputs": []
    },
    {
      "cell_type": "code",
      "source": [
        "import pandas as pd\n",
        "import torch\n",
        "from transformers import AutoTokenizer, AutoModel\n",
        "from sklearn.metrics.pairwise import cosine_similarity\n",
        "import numpy as np"
      ],
      "metadata": {
        "id": "JZfhH7shJBmp"
      },
      "execution_count": null,
      "outputs": []
    },
    {
      "cell_type": "markdown",
      "source": [
        "### Creating merged dataset with all categories, brands, and retailers mapped to relevant offers."
      ],
      "metadata": {
        "id": "7APjQOR7sQup"
      }
    },
    {
      "cell_type": "code",
      "source": [
        "def preprocess_column(column):\n",
        "    column = column.astype(str).str.lower()\n",
        "    column = column.str.replace(r'-', ' ', regex=True)\n",
        "    column = column.str.replace(r'[^a-z0-9\\s]', '', regex=True)\n",
        "    column = column.str.replace(r'\\s+', ' ', regex=True)\n",
        "    column = column.str.strip()\n",
        "    return column"
      ],
      "metadata": {
        "id": "oy8eXNy6hO8i"
      },
      "execution_count": null,
      "outputs": []
    },
    {
      "cell_type": "code",
      "source": [
        "df_categories = pd.read_csv('categories.csv')\n",
        "df_brands = pd.read_csv('brand_category.csv')\n",
        "df_offers = pd.read_csv('offer_retailer.csv')"
      ],
      "metadata": {
        "id": "6-5FETUpdUOS"
      },
      "execution_count": null,
      "outputs": []
    },
    {
      "cell_type": "code",
      "source": [
        "df_categories.drop('CATEGORY_ID', axis=1, inplace=True)\n",
        "df_categories = df_categories.rename(columns={'PRODUCT_CATEGORY': 'CATEGORY', 'IS_CHILD_CATEGORY_TO':'PARENT_CATEGORY'})"
      ],
      "metadata": {
        "id": "1gEXQaj1dUng"
      },
      "execution_count": null,
      "outputs": []
    },
    {
      "cell_type": "code",
      "source": [
        "df_categories['CATEGORY'] = preprocess_column(df_categories['CATEGORY'])\n",
        "df_categories['PARENT_CATEGORY'] = preprocess_column(df_categories['PARENT_CATEGORY'])"
      ],
      "metadata": {
        "id": "nLzMtrkahQTO"
      },
      "execution_count": null,
      "outputs": []
    },
    {
      "cell_type": "code",
      "source": [
        "df_brands.drop('RECEIPTS', axis=1, inplace=True)\n",
        "df_brands = df_brands.rename(columns={'BRAND_BELONGS_TO_CATEGORY':'CATEGORY'})"
      ],
      "metadata": {
        "id": "1eBTDZWTgPvy"
      },
      "execution_count": null,
      "outputs": []
    },
    {
      "cell_type": "code",
      "source": [
        "df_brands['BRAND'] = preprocess_column(df_brands['BRAND'])\n",
        "df_brands['CATEGORY'] = preprocess_column(df_brands['CATEGORY'])"
      ],
      "metadata": {
        "id": "DggpqVhshd5C"
      },
      "execution_count": null,
      "outputs": []
    },
    {
      "cell_type": "code",
      "source": [
        "df_offers['BRAND'] = preprocess_column(df_offers['BRAND'])\n",
        "df_offers['RETAILER'] = preprocess_column(df_offers['RETAILER'])\n",
        "df_offers['OFFER_PREPROCESSED'] = preprocess_column(df_offers['OFFER'])"
      ],
      "metadata": {
        "id": "6VmIqdoJhoBv"
      },
      "execution_count": null,
      "outputs": []
    },
    {
      "cell_type": "code",
      "source": [
        "dataset = pd.merge(df_categories, df_brands, on='CATEGORY', how='outer')"
      ],
      "metadata": {
        "id": "M6mZupAniWIO"
      },
      "execution_count": null,
      "outputs": []
    },
    {
      "cell_type": "code",
      "source": [
        "dataset = pd.merge(dataset, df_offers, on='BRAND', how='outer')"
      ],
      "metadata": {
        "id": "PICNvf2gjK_f"
      },
      "execution_count": null,
      "outputs": []
    },
    {
      "cell_type": "code",
      "source": [
        "dataset = dataset.drop_duplicates().reset_index(drop=True)"
      ],
      "metadata": {
        "id": "DP7JmIUoUPYJ"
      },
      "execution_count": null,
      "outputs": []
    },
    {
      "cell_type": "code",
      "source": [
        "dataset = dataset.dropna(subset=['OFFER'])"
      ],
      "metadata": {
        "id": "8v9XmvrfqWqh"
      },
      "execution_count": null,
      "outputs": []
    },
    {
      "cell_type": "code",
      "source": [
        "dataset"
      ],
      "metadata": {
        "id": "ekr1f3mDqbYj"
      },
      "execution_count": null,
      "outputs": []
    },
    {
      "cell_type": "code",
      "source": [
        "dataset.to_csv('dataset.csv')"
      ],
      "metadata": {
        "id": "zNQfxAp3kIaL"
      },
      "execution_count": null,
      "outputs": []
    },
    {
      "cell_type": "markdown",
      "source": [
        "### Loading custom merged dataset"
      ],
      "metadata": {
        "id": "wV-wdHABsnK2"
      }
    },
    {
      "cell_type": "code",
      "source": [
        "dataset = pd.read_csv('dataset.csv', index_col=0)"
      ],
      "metadata": {
        "id": "UfhSXlR7sqky"
      },
      "execution_count": null,
      "outputs": []
    },
    {
      "cell_type": "markdown",
      "source": [
        "### User Search"
      ],
      "metadata": {
        "id": "wWB4YGtDtPBk"
      }
    },
    {
      "cell_type": "code",
      "source": [
        "USER_INPUT = \"SCHWEPPES\""
      ],
      "metadata": {
        "id": "7XyTEuMcu7V_"
      },
      "execution_count": null,
      "outputs": []
    },
    {
      "cell_type": "code",
      "source": [
        "def preprocess_text(text):\n",
        "    text = text.lower()\n",
        "    text = text.replace('-', ' ')\n",
        "    text = ''.join(c for c in text if c.isalnum() or c.isspace())\n",
        "    text = ' '.join(text.split())\n",
        "    return text"
      ],
      "metadata": {
        "id": "HfQNtbEB4DJe"
      },
      "execution_count": null,
      "outputs": []
    },
    {
      "cell_type": "code",
      "source": [
        "USER_INPUT = preprocess_text(USER_INPUT)"
      ],
      "metadata": {
        "id": "a8-WPsc23h4W"
      },
      "execution_count": null,
      "outputs": []
    },
    {
      "cell_type": "code",
      "source": [
        "USER_INPUT"
      ],
      "metadata": {
        "colab": {
          "base_uri": "https://localhost:8080/",
          "height": 35
        },
        "id": "JRuTKigT4I8j",
        "outputId": "a05a507d-6d91-4765-f2e3-bceb7f22bf36"
      },
      "execution_count": null,
      "outputs": [
        {
          "output_type": "execute_result",
          "data": {
            "text/plain": [
              "'schweppes'"
            ],
            "application/vnd.google.colaboratory.intrinsic+json": {
              "type": "string"
            }
          },
          "metadata": {},
          "execution_count": 193
        }
      ]
    },
    {
      "cell_type": "markdown",
      "source": [
        "#### Filtering based on input keyword"
      ],
      "metadata": {
        "id": "YKbkWW5HtAm6"
      }
    },
    {
      "cell_type": "code",
      "source": [
        "# Define a search function\n",
        "def search_string(s, search):\n",
        "\n",
        "    s, search = str(s), str(search)\n",
        "    return set(search.split()).intersection(set(s.split()))\n",
        "\n",
        "    # return (search in str(s).lower()) or (str(s).lower() in search)\n",
        "\n",
        "mask = dataset.applymap(lambda x: search_string(x, USER_INPUT))\n",
        "\n",
        "# Filter the DataFrame based on the mask\n",
        "filtered_dataset = dataset.loc[mask.any(axis=1)]"
      ],
      "metadata": {
        "id": "RF-im5hBPY0G"
      },
      "execution_count": null,
      "outputs": []
    },
    {
      "cell_type": "code",
      "source": [
        "filtered_dataset"
      ],
      "metadata": {
        "id": "lDIUzmO0qnml"
      },
      "execution_count": null,
      "outputs": []
    },
    {
      "cell_type": "markdown",
      "source": [
        "#### Reordering filtered dataset using cosine similarity (BERT)"
      ],
      "metadata": {
        "id": "34dfezExtV2x"
      }
    },
    {
      "cell_type": "code",
      "source": [
        "MODEL_NAME=\"bert-base-uncased\"\n",
        "TOKENIZER = AutoTokenizer.from_pretrained(MODEL_NAME)\n",
        "MODEL = AutoModel.from_pretrained(MODEL_NAME)"
      ],
      "metadata": {
        "colab": {
          "base_uri": "https://localhost:8080/",
          "height": 49,
          "referenced_widgets": [
            "058bdfbe45a641b79162ad2f2520f537",
            "c01f33bbaa0441d5965a7a185f4c38ea",
            "5526d5ef16cb429486227e53da884be1",
            "98eb6831b7d94781b798f2e5cb5910fb",
            "6be793db8f7d4c9e9b3b74b6b6d55e5a",
            "813a78e721824fdb8e1affff864db442",
            "6f5ef80376cb45e39c39fabfb78e70fb",
            "4ce77260711344a78f27cf359ea35611",
            "3f6e71c5351e46acaaa4be0e617e215f",
            "a06a0f5bde9a4e348fb58687a00bb6ce",
            "2e4153b37abf4413a6d8b004bccab182"
          ]
        },
        "id": "SuM7-acxudV-",
        "outputId": "1f7f6a00-2c42-4844-c3b4-e4cf7c51771a"
      },
      "execution_count": null,
      "outputs": [
        {
          "output_type": "display_data",
          "data": {
            "text/plain": [
              "Downloading model.safetensors:   0%|          | 0.00/440M [00:00<?, ?B/s]"
            ],
            "application/vnd.jupyter.widget-view+json": {
              "version_major": 2,
              "version_minor": 0,
              "model_id": "058bdfbe45a641b79162ad2f2520f537"
            }
          },
          "metadata": {}
        }
      ]
    },
    {
      "cell_type": "code",
      "source": [
        "def cosine_similarity_bert(text1, text2=USER_INPUT):\n",
        "    # Load the pre-trained BERT model and tokenizer\n",
        "    tokenizer = TOKENIZER\n",
        "    model = MODEL\n",
        "\n",
        "    # Tokenize the input texts and obtain embeddings\n",
        "    inputs1 = tokenizer(text1, return_tensors='pt', padding=True, truncation=True)\n",
        "    inputs2 = tokenizer(text2, return_tensors='pt', padding=True, truncation=True)\n",
        "\n",
        "    # Get the BERT embeddings for the input texts\n",
        "    with torch.no_grad():\n",
        "        outputs1 = model(**inputs1)\n",
        "        outputs2 = model(**inputs2)\n",
        "\n",
        "    # Extract the embeddings\n",
        "    embeddings1 = outputs1.last_hidden_state.mean(dim=1)  # Mean pooling over tokens\n",
        "    embeddings2 = outputs2.last_hidden_state.mean(dim=1)\n",
        "\n",
        "    # Convert tensors to numpy arrays and calculate cosine similarity\n",
        "    embedding1_np = embeddings1.cpu().numpy()\n",
        "    embedding2_np = embeddings2.cpu().numpy()\n",
        "    similarity_score = cosine_similarity(embedding1_np, embedding2_np)[0][0]\n",
        "\n",
        "    return similarity_score"
      ],
      "metadata": {
        "id": "nvo0LJAJtVZq"
      },
      "execution_count": null,
      "outputs": []
    },
    {
      "cell_type": "markdown",
      "source": [],
      "metadata": {
        "id": "DKjWMYKtUSug"
      }
    },
    {
      "cell_type": "markdown",
      "source": [],
      "metadata": {
        "id": "WQD0M5PAUTZK"
      }
    },
    {
      "cell_type": "code",
      "source": [
        "filtered_dataset"
      ],
      "metadata": {
        "id": "vk63cpnK2l7K"
      },
      "execution_count": null,
      "outputs": []
    },
    {
      "cell_type": "code",
      "source": [
        "def sort_by_cosine_similarity(row, user_input):\n",
        "    return cosine_similarity_bert(row['OFFER_PREPROCESSED'], user_input)"
      ],
      "metadata": {
        "id": "SO9W7dPR2VVO"
      },
      "execution_count": null,
      "outputs": []
    },
    {
      "cell_type": "code",
      "source": [
        "filtered_dataset['cosine_similarity'] = filtered_dataset.apply(lambda row: sort_by_cosine_similarity(row, USER_INPUT), axis=1)"
      ],
      "metadata": {
        "colab": {
          "base_uri": "https://localhost:8080/"
        },
        "id": "0sw25RRl2Vwe",
        "outputId": "2ab07d03-4c04-4898-b057-6d196dc4a55a"
      },
      "execution_count": null,
      "outputs": [
        {
          "output_type": "stream",
          "name": "stderr",
          "text": [
            "<ipython-input-121-4459c11d749d>:1: SettingWithCopyWarning: \n",
            "A value is trying to be set on a copy of a slice from a DataFrame.\n",
            "Try using .loc[row_indexer,col_indexer] = value instead\n",
            "\n",
            "See the caveats in the documentation: https://pandas.pydata.org/pandas-docs/stable/user_guide/indexing.html#returning-a-view-versus-a-copy\n",
            "  filtered_dataset['cosine_similarity'] = filtered_dataset.apply(lambda row: sort_by_cosine_similarity(row, USER_INPUT), axis=1)\n"
          ]
        }
      ]
    },
    {
      "cell_type": "code",
      "source": [
        "filtered_dataset.sort_values(by='cosine_similarity', ascending=False)"
      ],
      "metadata": {
        "id": "KBNhV1Mp2r_-"
      },
      "execution_count": null,
      "outputs": []
    },
    {
      "cell_type": "code",
      "source": [],
      "metadata": {
        "id": "nWmHoJO73ZuO"
      },
      "execution_count": null,
      "outputs": []
    },
    {
      "cell_type": "code",
      "source": [
        "filtered_dataset"
      ],
      "metadata": {
        "colab": {
          "base_uri": "https://localhost:8080/",
          "height": 53
        },
        "id": "FfMyjaRb47nf",
        "outputId": "ca88a21d-fe53-444f-9c3c-c57e418f3aa7"
      },
      "execution_count": null,
      "outputs": [
        {
          "output_type": "execute_result",
          "data": {
            "text/plain": [
              "Empty DataFrame\n",
              "Columns: [CATEGORY, PARENT_CATEGORY, BRAND, OFFER, RETAILER, OFFER_PREPROCESSED]\n",
              "Index: []"
            ],
            "text/html": [
              "\n",
              "  <div id=\"df-913c2f07-d337-4f7c-a344-f3d8e5bbe607\" class=\"colab-df-container\">\n",
              "    <div>\n",
              "<style scoped>\n",
              "    .dataframe tbody tr th:only-of-type {\n",
              "        vertical-align: middle;\n",
              "    }\n",
              "\n",
              "    .dataframe tbody tr th {\n",
              "        vertical-align: top;\n",
              "    }\n",
              "\n",
              "    .dataframe thead th {\n",
              "        text-align: right;\n",
              "    }\n",
              "</style>\n",
              "<table border=\"1\" class=\"dataframe\">\n",
              "  <thead>\n",
              "    <tr style=\"text-align: right;\">\n",
              "      <th></th>\n",
              "      <th>CATEGORY</th>\n",
              "      <th>PARENT_CATEGORY</th>\n",
              "      <th>BRAND</th>\n",
              "      <th>OFFER</th>\n",
              "      <th>RETAILER</th>\n",
              "      <th>OFFER_PREPROCESSED</th>\n",
              "    </tr>\n",
              "  </thead>\n",
              "  <tbody>\n",
              "  </tbody>\n",
              "</table>\n",
              "</div>\n",
              "    <div class=\"colab-df-buttons\">\n",
              "\n",
              "  <div class=\"colab-df-container\">\n",
              "    <button class=\"colab-df-convert\" onclick=\"convertToInteractive('df-913c2f07-d337-4f7c-a344-f3d8e5bbe607')\"\n",
              "            title=\"Convert this dataframe to an interactive table.\"\n",
              "            style=\"display:none;\">\n",
              "\n",
              "  <svg xmlns=\"http://www.w3.org/2000/svg\" height=\"24px\" viewBox=\"0 -960 960 960\">\n",
              "    <path d=\"M120-120v-720h720v720H120Zm60-500h600v-160H180v160Zm220 220h160v-160H400v160Zm0 220h160v-160H400v160ZM180-400h160v-160H180v160Zm440 0h160v-160H620v160ZM180-180h160v-160H180v160Zm440 0h160v-160H620v160Z\"/>\n",
              "  </svg>\n",
              "    </button>\n",
              "\n",
              "  <style>\n",
              "    .colab-df-container {\n",
              "      display:flex;\n",
              "      gap: 12px;\n",
              "    }\n",
              "\n",
              "    .colab-df-convert {\n",
              "      background-color: #E8F0FE;\n",
              "      border: none;\n",
              "      border-radius: 50%;\n",
              "      cursor: pointer;\n",
              "      display: none;\n",
              "      fill: #1967D2;\n",
              "      height: 32px;\n",
              "      padding: 0 0 0 0;\n",
              "      width: 32px;\n",
              "    }\n",
              "\n",
              "    .colab-df-convert:hover {\n",
              "      background-color: #E2EBFA;\n",
              "      box-shadow: 0px 1px 2px rgba(60, 64, 67, 0.3), 0px 1px 3px 1px rgba(60, 64, 67, 0.15);\n",
              "      fill: #174EA6;\n",
              "    }\n",
              "\n",
              "    .colab-df-buttons div {\n",
              "      margin-bottom: 4px;\n",
              "    }\n",
              "\n",
              "    [theme=dark] .colab-df-convert {\n",
              "      background-color: #3B4455;\n",
              "      fill: #D2E3FC;\n",
              "    }\n",
              "\n",
              "    [theme=dark] .colab-df-convert:hover {\n",
              "      background-color: #434B5C;\n",
              "      box-shadow: 0px 1px 3px 1px rgba(0, 0, 0, 0.15);\n",
              "      filter: drop-shadow(0px 1px 2px rgba(0, 0, 0, 0.3));\n",
              "      fill: #FFFFFF;\n",
              "    }\n",
              "  </style>\n",
              "\n",
              "    <script>\n",
              "      const buttonEl =\n",
              "        document.querySelector('#df-913c2f07-d337-4f7c-a344-f3d8e5bbe607 button.colab-df-convert');\n",
              "      buttonEl.style.display =\n",
              "        google.colab.kernel.accessAllowed ? 'block' : 'none';\n",
              "\n",
              "      async function convertToInteractive(key) {\n",
              "        const element = document.querySelector('#df-913c2f07-d337-4f7c-a344-f3d8e5bbe607');\n",
              "        const dataTable =\n",
              "          await google.colab.kernel.invokeFunction('convertToInteractive',\n",
              "                                                    [key], {});\n",
              "        if (!dataTable) return;\n",
              "\n",
              "        const docLinkHtml = 'Like what you see? Visit the ' +\n",
              "          '<a target=\"_blank\" href=https://colab.research.google.com/notebooks/data_table.ipynb>data table notebook</a>'\n",
              "          + ' to learn more about interactive tables.';\n",
              "        element.innerHTML = '';\n",
              "        dataTable['output_type'] = 'display_data';\n",
              "        await google.colab.output.renderOutput(dataTable, element);\n",
              "        const docLink = document.createElement('div');\n",
              "        docLink.innerHTML = docLinkHtml;\n",
              "        element.appendChild(docLink);\n",
              "      }\n",
              "    </script>\n",
              "  </div>\n",
              "\n",
              "    </div>\n",
              "  </div>\n"
            ]
          },
          "metadata": {},
          "execution_count": 195
        }
      ]
    },
    {
      "cell_type": "code",
      "source": [
        "def match_score(row, user_input=USER_INPUT):\n",
        "    row_data = str(row['CATEGORY']) + ' ' + str(row['PARENT_CATEGORY']) + ' ' + str(row['BRAND']) + ' ' + str(row['RETAILER']) + ' ' + str(row['OFFER_PREPROCESSED'])\n",
        "\n",
        "    score = len(set(row_data.split()).intersection(set(user_input.split())))\n",
        "\n",
        "    return score"
      ],
      "metadata": {
        "id": "uL_j_iRB45yz"
      },
      "execution_count": null,
      "outputs": []
    },
    {
      "cell_type": "code",
      "source": [
        "filtered_dataset['SCORE'] = filtered_dataset.apply(lambda row: match_score(row, USER_INPUT), axis=1)"
      ],
      "metadata": {
        "id": "jBAqYB9v3cos"
      },
      "execution_count": null,
      "outputs": []
    },
    {
      "cell_type": "code",
      "source": [
        "filtered_dataset"
      ],
      "metadata": {
        "colab": {
          "base_uri": "https://localhost:8080/",
          "height": 53
        },
        "id": "3RrzsaH6GVx9",
        "outputId": "b53e10af-1a23-4e08-e5d0-3956044ff462"
      },
      "execution_count": null,
      "outputs": [
        {
          "output_type": "execute_result",
          "data": {
            "text/plain": [
              "Empty DataFrame\n",
              "Columns: [CATEGORY, PARENT_CATEGORY, BRAND, OFFER, RETAILER, OFFER_PREPROCESSED, SCORE]\n",
              "Index: []"
            ],
            "text/html": [
              "\n",
              "  <div id=\"df-1e1ef5bd-12dc-4e28-b386-72c5877e3809\" class=\"colab-df-container\">\n",
              "    <div>\n",
              "<style scoped>\n",
              "    .dataframe tbody tr th:only-of-type {\n",
              "        vertical-align: middle;\n",
              "    }\n",
              "\n",
              "    .dataframe tbody tr th {\n",
              "        vertical-align: top;\n",
              "    }\n",
              "\n",
              "    .dataframe thead th {\n",
              "        text-align: right;\n",
              "    }\n",
              "</style>\n",
              "<table border=\"1\" class=\"dataframe\">\n",
              "  <thead>\n",
              "    <tr style=\"text-align: right;\">\n",
              "      <th></th>\n",
              "      <th>CATEGORY</th>\n",
              "      <th>PARENT_CATEGORY</th>\n",
              "      <th>BRAND</th>\n",
              "      <th>OFFER</th>\n",
              "      <th>RETAILER</th>\n",
              "      <th>OFFER_PREPROCESSED</th>\n",
              "      <th>SCORE</th>\n",
              "    </tr>\n",
              "  </thead>\n",
              "  <tbody>\n",
              "  </tbody>\n",
              "</table>\n",
              "</div>\n",
              "    <div class=\"colab-df-buttons\">\n",
              "\n",
              "  <div class=\"colab-df-container\">\n",
              "    <button class=\"colab-df-convert\" onclick=\"convertToInteractive('df-1e1ef5bd-12dc-4e28-b386-72c5877e3809')\"\n",
              "            title=\"Convert this dataframe to an interactive table.\"\n",
              "            style=\"display:none;\">\n",
              "\n",
              "  <svg xmlns=\"http://www.w3.org/2000/svg\" height=\"24px\" viewBox=\"0 -960 960 960\">\n",
              "    <path d=\"M120-120v-720h720v720H120Zm60-500h600v-160H180v160Zm220 220h160v-160H400v160Zm0 220h160v-160H400v160ZM180-400h160v-160H180v160Zm440 0h160v-160H620v160ZM180-180h160v-160H180v160Zm440 0h160v-160H620v160Z\"/>\n",
              "  </svg>\n",
              "    </button>\n",
              "\n",
              "  <style>\n",
              "    .colab-df-container {\n",
              "      display:flex;\n",
              "      gap: 12px;\n",
              "    }\n",
              "\n",
              "    .colab-df-convert {\n",
              "      background-color: #E8F0FE;\n",
              "      border: none;\n",
              "      border-radius: 50%;\n",
              "      cursor: pointer;\n",
              "      display: none;\n",
              "      fill: #1967D2;\n",
              "      height: 32px;\n",
              "      padding: 0 0 0 0;\n",
              "      width: 32px;\n",
              "    }\n",
              "\n",
              "    .colab-df-convert:hover {\n",
              "      background-color: #E2EBFA;\n",
              "      box-shadow: 0px 1px 2px rgba(60, 64, 67, 0.3), 0px 1px 3px 1px rgba(60, 64, 67, 0.15);\n",
              "      fill: #174EA6;\n",
              "    }\n",
              "\n",
              "    .colab-df-buttons div {\n",
              "      margin-bottom: 4px;\n",
              "    }\n",
              "\n",
              "    [theme=dark] .colab-df-convert {\n",
              "      background-color: #3B4455;\n",
              "      fill: #D2E3FC;\n",
              "    }\n",
              "\n",
              "    [theme=dark] .colab-df-convert:hover {\n",
              "      background-color: #434B5C;\n",
              "      box-shadow: 0px 1px 3px 1px rgba(0, 0, 0, 0.15);\n",
              "      filter: drop-shadow(0px 1px 2px rgba(0, 0, 0, 0.3));\n",
              "      fill: #FFFFFF;\n",
              "    }\n",
              "  </style>\n",
              "\n",
              "    <script>\n",
              "      const buttonEl =\n",
              "        document.querySelector('#df-1e1ef5bd-12dc-4e28-b386-72c5877e3809 button.colab-df-convert');\n",
              "      buttonEl.style.display =\n",
              "        google.colab.kernel.accessAllowed ? 'block' : 'none';\n",
              "\n",
              "      async function convertToInteractive(key) {\n",
              "        const element = document.querySelector('#df-1e1ef5bd-12dc-4e28-b386-72c5877e3809');\n",
              "        const dataTable =\n",
              "          await google.colab.kernel.invokeFunction('convertToInteractive',\n",
              "                                                    [key], {});\n",
              "        if (!dataTable) return;\n",
              "\n",
              "        const docLinkHtml = 'Like what you see? Visit the ' +\n",
              "          '<a target=\"_blank\" href=https://colab.research.google.com/notebooks/data_table.ipynb>data table notebook</a>'\n",
              "          + ' to learn more about interactive tables.';\n",
              "        element.innerHTML = '';\n",
              "        dataTable['output_type'] = 'display_data';\n",
              "        await google.colab.output.renderOutput(dataTable, element);\n",
              "        const docLink = document.createElement('div');\n",
              "        docLink.innerHTML = docLinkHtml;\n",
              "        element.appendChild(docLink);\n",
              "      }\n",
              "    </script>\n",
              "  </div>\n",
              "\n",
              "    </div>\n",
              "  </div>\n"
            ]
          },
          "metadata": {},
          "execution_count": 188
        }
      ]
    },
    {
      "cell_type": "code",
      "source": [
        "list(set(dataset['OFFER']))"
      ],
      "metadata": {
        "id": "yaRWmPPvqNtQ"
      },
      "execution_count": null,
      "outputs": []
    }
  ]
}