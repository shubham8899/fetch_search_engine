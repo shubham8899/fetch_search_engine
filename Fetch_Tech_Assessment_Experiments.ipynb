{
  "nbformat": 4,
  "nbformat_minor": 0,
  "metadata": {
    "colab": {
      "provenance": []
    },
    "kernelspec": {
      "name": "python3",
      "display_name": "Python 3"
    },
    "language_info": {
      "name": "python"
    }
  },
  "cells": [
    {
      "cell_type": "markdown",
      "source": [
        "## Custom Fuzzy + Semantic Match\n",
        "Tryed using Word2Vec Cosine similarity in combination with fuzzywuzzy partial fuzzy match to get closest matches. Unsatisfactory results."
      ],
      "metadata": {
        "id": "cwPsrbCbSImc"
      }
    },
    {
      "cell_type": "code",
      "source": [
        "!pip install fuzzywuzzy\n",
        "!pip install gensim"
      ],
      "metadata": {
        "id": "-uk2pVYLEwaz"
      },
      "execution_count": null,
      "outputs": []
    },
    {
      "cell_type": "code",
      "source": [
        "import pandas as pd\n",
        "import gensim.downloader as api\n",
        "from gensim.models import KeyedVectors\n",
        "from gensim import models"
      ],
      "metadata": {
        "id": "uFy3YfoIW0VJ"
      },
      "execution_count": null,
      "outputs": []
    },
    {
      "cell_type": "code",
      "source": [
        "# Downloading word2vec embeddings\n",
        "word_vectors = api.load(\"word2vec-google-news-300\")"
      ],
      "metadata": {
        "id": "5Y5hRhDRJGeE"
      },
      "execution_count": null,
      "outputs": []
    },
    {
      "cell_type": "markdown",
      "source": [
        "Creating combined dataset for Categories, Brands and Labels"
      ],
      "metadata": {
        "id": "AEyEwqnbSft2"
      }
    },
    {
      "cell_type": "code",
      "source": [
        "df_categories = pd.read_csv('categories.csv')\n",
        "df_brands = pd.read_csv('brand_category.csv')\n",
        "df_offers = pd.read_csv('offer_retailer.csv')"
      ],
      "metadata": {
        "id": "XOqbg2HVc6jX"
      },
      "execution_count": null,
      "outputs": []
    },
    {
      "cell_type": "code",
      "source": [
        "def preprocess_column(column):\n",
        "    column = column.astype(str).str.lower()\n",
        "    column = column.str.replace(r'-', ' ', regex=True)\n",
        "    column = column.str.replace(r'[^a-z0-9\\s]', '', regex=True)\n",
        "    column = column.str.replace(r'\\s+', ' ', regex=True)\n",
        "    column = column.str.strip()\n",
        "    return column"
      ],
      "metadata": {
        "id": "K3Nlt89woQza"
      },
      "execution_count": null,
      "outputs": []
    },
    {
      "cell_type": "code",
      "source": [
        "df_categories['PRODUCT_CATEGORY'] = preprocess_column(df_categories['PRODUCT_CATEGORY'])\n",
        "df_categories['IS_CHILD_CATEGORY_TO'] = preprocess_column(df_categories['IS_CHILD_CATEGORY_TO'])\n",
        "\n",
        "df_brands['BRAND'] = preprocess_column(df_brands['BRAND'])\n",
        "df_brands['BRAND_BELONGS_TO_CATEGORY'] = preprocess_column(df_brands['BRAND_BELONGS_TO_CATEGORY'])\n",
        "\n",
        "df_offers['OFFER_PREPROCESSED'] = preprocess_column(df_offers['OFFER'])\n",
        "df_offers['RETAILER'] = preprocess_column(df_offers['RETAILER'])\n",
        "df_offers['BRAND'] = preprocess_column(df_offers['BRAND'])"
      ],
      "metadata": {
        "id": "ErdF16BUi6xj"
      },
      "execution_count": null,
      "outputs": []
    },
    {
      "cell_type": "code",
      "source": [
        "# df_categories"
      ],
      "metadata": {
        "id": "4k0_CyoFjMoD"
      },
      "execution_count": null,
      "outputs": []
    },
    {
      "cell_type": "code",
      "source": [
        "# df_brands"
      ],
      "metadata": {
        "id": "vCxfrZZ-pNSq"
      },
      "execution_count": null,
      "outputs": []
    },
    {
      "cell_type": "code",
      "source": [
        "# df_offers"
      ],
      "metadata": {
        "id": "bqY33vFmpOSL"
      },
      "execution_count": null,
      "outputs": []
    },
    {
      "cell_type": "code",
      "source": [
        "category_list = list(df_categories['PRODUCT_CATEGORY'])\n",
        "category_list += list(df_brands['BRAND_BELONGS_TO_CATEGORY'])\n",
        "category_list = list(set(category_list))"
      ],
      "metadata": {
        "id": "ydRqvA6IykTV"
      },
      "execution_count": null,
      "outputs": []
    },
    {
      "cell_type": "code",
      "source": [
        "brand_list = list(df_brands['BRAND']) + list(df_offers['BRAND'])\n",
        "brand_list = list(set(brand_list))"
      ],
      "metadata": {
        "id": "oN_RAw3kzYZk"
      },
      "execution_count": null,
      "outputs": []
    },
    {
      "cell_type": "code",
      "source": [
        "retailer_list = list(df_offers['RETAILER'])\n",
        "retailer_list = list(set(retailer_list))"
      ],
      "metadata": {
        "id": "M8Hp6cOGzx3N"
      },
      "execution_count": null,
      "outputs": []
    },
    {
      "cell_type": "code",
      "source": [
        "len(category_list)"
      ],
      "metadata": {
        "colab": {
          "base_uri": "https://localhost:8080/"
        },
        "id": "_4TD9aqbx42k",
        "outputId": "9911d754-457f-4a2b-bf11-acf9e2fa07ff"
      },
      "execution_count": null,
      "outputs": [
        {
          "output_type": "execute_result",
          "data": {
            "text/plain": [
              "118"
            ]
          },
          "metadata": {},
          "execution_count": 10
        }
      ]
    },
    {
      "cell_type": "code",
      "source": [
        "len(brand_list)"
      ],
      "metadata": {
        "colab": {
          "base_uri": "https://localhost:8080/"
        },
        "id": "-XPRVKzRznAb",
        "outputId": "c300a852-e9de-4188-8aff-8af9ce33b79e"
      },
      "execution_count": null,
      "outputs": [
        {
          "output_type": "execute_result",
          "data": {
            "text/plain": [
              "8417"
            ]
          },
          "metadata": {},
          "execution_count": 11
        }
      ]
    },
    {
      "cell_type": "code",
      "source": [
        "len(retailer_list)"
      ],
      "metadata": {
        "colab": {
          "base_uri": "https://localhost:8080/"
        },
        "id": "EICc4Zmyz7fH",
        "outputId": "2ade1018-03e7-415a-ccb3-a0e01d409fda"
      },
      "execution_count": null,
      "outputs": [
        {
          "output_type": "execute_result",
          "data": {
            "text/plain": [
              "62"
            ]
          },
          "metadata": {},
          "execution_count": 12
        }
      ]
    },
    {
      "cell_type": "code",
      "source": [
        "# Create a list of tuples with elements and their source list names\n",
        "combined_data = [(item, 'category_list') for item in category_list] + \\\n",
        "               [(item, 'brand_list') for item in brand_list] + \\\n",
        "               [(item, 'retailer_list') for item in retailer_list]\n",
        "\n",
        "# Create a DataFrame from the combined data\n",
        "df = pd.DataFrame(combined_data, columns=['Element', 'Source'])"
      ],
      "metadata": {
        "id": "YXat3Iy6BPV0"
      },
      "execution_count": null,
      "outputs": []
    },
    {
      "cell_type": "code",
      "source": [
        "df"
      ],
      "metadata": {
        "colab": {
          "base_uri": "https://localhost:8080/",
          "height": 424
        },
        "id": "UfHSba7t-xXX",
        "outputId": "cb51b61a-b2d3-4182-d127-d724243a68f8"
      },
      "execution_count": null,
      "outputs": [
        {
          "output_type": "execute_result",
          "data": {
            "text/plain": [
              "                Element         Source\n",
              "0                frozen  category_list\n",
              "1             nail care  category_list\n",
              "2            nuts seeds  category_list\n",
              "3              pretzels  category_list\n",
              "4             oral care  category_list\n",
              "...                 ...            ...\n",
              "8592  pet supplies plus  retailer_list\n",
              "8593          tom thumb  retailer_list\n",
              "8594        burger king  retailer_list\n",
              "8595   nekter juice bar  retailer_list\n",
              "8596        farmer boys  retailer_list\n",
              "\n",
              "[8597 rows x 2 columns]"
            ],
            "text/html": [
              "\n",
              "  <div id=\"df-61733822-7526-4980-a45e-4a2193709d0d\" class=\"colab-df-container\">\n",
              "    <div>\n",
              "<style scoped>\n",
              "    .dataframe tbody tr th:only-of-type {\n",
              "        vertical-align: middle;\n",
              "    }\n",
              "\n",
              "    .dataframe tbody tr th {\n",
              "        vertical-align: top;\n",
              "    }\n",
              "\n",
              "    .dataframe thead th {\n",
              "        text-align: right;\n",
              "    }\n",
              "</style>\n",
              "<table border=\"1\" class=\"dataframe\">\n",
              "  <thead>\n",
              "    <tr style=\"text-align: right;\">\n",
              "      <th></th>\n",
              "      <th>Element</th>\n",
              "      <th>Source</th>\n",
              "    </tr>\n",
              "  </thead>\n",
              "  <tbody>\n",
              "    <tr>\n",
              "      <th>0</th>\n",
              "      <td>frozen</td>\n",
              "      <td>category_list</td>\n",
              "    </tr>\n",
              "    <tr>\n",
              "      <th>1</th>\n",
              "      <td>nail care</td>\n",
              "      <td>category_list</td>\n",
              "    </tr>\n",
              "    <tr>\n",
              "      <th>2</th>\n",
              "      <td>nuts seeds</td>\n",
              "      <td>category_list</td>\n",
              "    </tr>\n",
              "    <tr>\n",
              "      <th>3</th>\n",
              "      <td>pretzels</td>\n",
              "      <td>category_list</td>\n",
              "    </tr>\n",
              "    <tr>\n",
              "      <th>4</th>\n",
              "      <td>oral care</td>\n",
              "      <td>category_list</td>\n",
              "    </tr>\n",
              "    <tr>\n",
              "      <th>...</th>\n",
              "      <td>...</td>\n",
              "      <td>...</td>\n",
              "    </tr>\n",
              "    <tr>\n",
              "      <th>8592</th>\n",
              "      <td>pet supplies plus</td>\n",
              "      <td>retailer_list</td>\n",
              "    </tr>\n",
              "    <tr>\n",
              "      <th>8593</th>\n",
              "      <td>tom thumb</td>\n",
              "      <td>retailer_list</td>\n",
              "    </tr>\n",
              "    <tr>\n",
              "      <th>8594</th>\n",
              "      <td>burger king</td>\n",
              "      <td>retailer_list</td>\n",
              "    </tr>\n",
              "    <tr>\n",
              "      <th>8595</th>\n",
              "      <td>nekter juice bar</td>\n",
              "      <td>retailer_list</td>\n",
              "    </tr>\n",
              "    <tr>\n",
              "      <th>8596</th>\n",
              "      <td>farmer boys</td>\n",
              "      <td>retailer_list</td>\n",
              "    </tr>\n",
              "  </tbody>\n",
              "</table>\n",
              "<p>8597 rows × 2 columns</p>\n",
              "</div>\n",
              "    <div class=\"colab-df-buttons\">\n",
              "\n",
              "  <div class=\"colab-df-container\">\n",
              "    <button class=\"colab-df-convert\" onclick=\"convertToInteractive('df-61733822-7526-4980-a45e-4a2193709d0d')\"\n",
              "            title=\"Convert this dataframe to an interactive table.\"\n",
              "            style=\"display:none;\">\n",
              "\n",
              "  <svg xmlns=\"http://www.w3.org/2000/svg\" height=\"24px\" viewBox=\"0 -960 960 960\">\n",
              "    <path d=\"M120-120v-720h720v720H120Zm60-500h600v-160H180v160Zm220 220h160v-160H400v160Zm0 220h160v-160H400v160ZM180-400h160v-160H180v160Zm440 0h160v-160H620v160ZM180-180h160v-160H180v160Zm440 0h160v-160H620v160Z\"/>\n",
              "  </svg>\n",
              "    </button>\n",
              "\n",
              "  <style>\n",
              "    .colab-df-container {\n",
              "      display:flex;\n",
              "      gap: 12px;\n",
              "    }\n",
              "\n",
              "    .colab-df-convert {\n",
              "      background-color: #E8F0FE;\n",
              "      border: none;\n",
              "      border-radius: 50%;\n",
              "      cursor: pointer;\n",
              "      display: none;\n",
              "      fill: #1967D2;\n",
              "      height: 32px;\n",
              "      padding: 0 0 0 0;\n",
              "      width: 32px;\n",
              "    }\n",
              "\n",
              "    .colab-df-convert:hover {\n",
              "      background-color: #E2EBFA;\n",
              "      box-shadow: 0px 1px 2px rgba(60, 64, 67, 0.3), 0px 1px 3px 1px rgba(60, 64, 67, 0.15);\n",
              "      fill: #174EA6;\n",
              "    }\n",
              "\n",
              "    .colab-df-buttons div {\n",
              "      margin-bottom: 4px;\n",
              "    }\n",
              "\n",
              "    [theme=dark] .colab-df-convert {\n",
              "      background-color: #3B4455;\n",
              "      fill: #D2E3FC;\n",
              "    }\n",
              "\n",
              "    [theme=dark] .colab-df-convert:hover {\n",
              "      background-color: #434B5C;\n",
              "      box-shadow: 0px 1px 3px 1px rgba(0, 0, 0, 0.15);\n",
              "      filter: drop-shadow(0px 1px 2px rgba(0, 0, 0, 0.3));\n",
              "      fill: #FFFFFF;\n",
              "    }\n",
              "  </style>\n",
              "\n",
              "    <script>\n",
              "      const buttonEl =\n",
              "        document.querySelector('#df-61733822-7526-4980-a45e-4a2193709d0d button.colab-df-convert');\n",
              "      buttonEl.style.display =\n",
              "        google.colab.kernel.accessAllowed ? 'block' : 'none';\n",
              "\n",
              "      async function convertToInteractive(key) {\n",
              "        const element = document.querySelector('#df-61733822-7526-4980-a45e-4a2193709d0d');\n",
              "        const dataTable =\n",
              "          await google.colab.kernel.invokeFunction('convertToInteractive',\n",
              "                                                    [key], {});\n",
              "        if (!dataTable) return;\n",
              "\n",
              "        const docLinkHtml = 'Like what you see? Visit the ' +\n",
              "          '<a target=\"_blank\" href=https://colab.research.google.com/notebooks/data_table.ipynb>data table notebook</a>'\n",
              "          + ' to learn more about interactive tables.';\n",
              "        element.innerHTML = '';\n",
              "        dataTable['output_type'] = 'display_data';\n",
              "        await google.colab.output.renderOutput(dataTable, element);\n",
              "        const docLink = document.createElement('div');\n",
              "        docLink.innerHTML = docLinkHtml;\n",
              "        element.appendChild(docLink);\n",
              "      }\n",
              "    </script>\n",
              "  </div>\n",
              "\n",
              "\n",
              "<div id=\"df-9e61ec3a-a047-444b-945f-32de36ed07e8\">\n",
              "  <button class=\"colab-df-quickchart\" onclick=\"quickchart('df-9e61ec3a-a047-444b-945f-32de36ed07e8')\"\n",
              "            title=\"Suggest charts.\"\n",
              "            style=\"display:none;\">\n",
              "\n",
              "<svg xmlns=\"http://www.w3.org/2000/svg\" height=\"24px\"viewBox=\"0 0 24 24\"\n",
              "     width=\"24px\">\n",
              "    <g>\n",
              "        <path d=\"M19 3H5c-1.1 0-2 .9-2 2v14c0 1.1.9 2 2 2h14c1.1 0 2-.9 2-2V5c0-1.1-.9-2-2-2zM9 17H7v-7h2v7zm4 0h-2V7h2v10zm4 0h-2v-4h2v4z\"/>\n",
              "    </g>\n",
              "</svg>\n",
              "  </button>\n",
              "\n",
              "<style>\n",
              "  .colab-df-quickchart {\n",
              "      --bg-color: #E8F0FE;\n",
              "      --fill-color: #1967D2;\n",
              "      --hover-bg-color: #E2EBFA;\n",
              "      --hover-fill-color: #174EA6;\n",
              "      --disabled-fill-color: #AAA;\n",
              "      --disabled-bg-color: #DDD;\n",
              "  }\n",
              "\n",
              "  [theme=dark] .colab-df-quickchart {\n",
              "      --bg-color: #3B4455;\n",
              "      --fill-color: #D2E3FC;\n",
              "      --hover-bg-color: #434B5C;\n",
              "      --hover-fill-color: #FFFFFF;\n",
              "      --disabled-bg-color: #3B4455;\n",
              "      --disabled-fill-color: #666;\n",
              "  }\n",
              "\n",
              "  .colab-df-quickchart {\n",
              "    background-color: var(--bg-color);\n",
              "    border: none;\n",
              "    border-radius: 50%;\n",
              "    cursor: pointer;\n",
              "    display: none;\n",
              "    fill: var(--fill-color);\n",
              "    height: 32px;\n",
              "    padding: 0;\n",
              "    width: 32px;\n",
              "  }\n",
              "\n",
              "  .colab-df-quickchart:hover {\n",
              "    background-color: var(--hover-bg-color);\n",
              "    box-shadow: 0 1px 2px rgba(60, 64, 67, 0.3), 0 1px 3px 1px rgba(60, 64, 67, 0.15);\n",
              "    fill: var(--button-hover-fill-color);\n",
              "  }\n",
              "\n",
              "  .colab-df-quickchart-complete:disabled,\n",
              "  .colab-df-quickchart-complete:disabled:hover {\n",
              "    background-color: var(--disabled-bg-color);\n",
              "    fill: var(--disabled-fill-color);\n",
              "    box-shadow: none;\n",
              "  }\n",
              "\n",
              "  .colab-df-spinner {\n",
              "    border: 2px solid var(--fill-color);\n",
              "    border-color: transparent;\n",
              "    border-bottom-color: var(--fill-color);\n",
              "    animation:\n",
              "      spin 1s steps(1) infinite;\n",
              "  }\n",
              "\n",
              "  @keyframes spin {\n",
              "    0% {\n",
              "      border-color: transparent;\n",
              "      border-bottom-color: var(--fill-color);\n",
              "      border-left-color: var(--fill-color);\n",
              "    }\n",
              "    20% {\n",
              "      border-color: transparent;\n",
              "      border-left-color: var(--fill-color);\n",
              "      border-top-color: var(--fill-color);\n",
              "    }\n",
              "    30% {\n",
              "      border-color: transparent;\n",
              "      border-left-color: var(--fill-color);\n",
              "      border-top-color: var(--fill-color);\n",
              "      border-right-color: var(--fill-color);\n",
              "    }\n",
              "    40% {\n",
              "      border-color: transparent;\n",
              "      border-right-color: var(--fill-color);\n",
              "      border-top-color: var(--fill-color);\n",
              "    }\n",
              "    60% {\n",
              "      border-color: transparent;\n",
              "      border-right-color: var(--fill-color);\n",
              "    }\n",
              "    80% {\n",
              "      border-color: transparent;\n",
              "      border-right-color: var(--fill-color);\n",
              "      border-bottom-color: var(--fill-color);\n",
              "    }\n",
              "    90% {\n",
              "      border-color: transparent;\n",
              "      border-bottom-color: var(--fill-color);\n",
              "    }\n",
              "  }\n",
              "</style>\n",
              "\n",
              "  <script>\n",
              "    async function quickchart(key) {\n",
              "      const quickchartButtonEl =\n",
              "        document.querySelector('#' + key + ' button');\n",
              "      quickchartButtonEl.disabled = true;  // To prevent multiple clicks.\n",
              "      quickchartButtonEl.classList.add('colab-df-spinner');\n",
              "      try {\n",
              "        const charts = await google.colab.kernel.invokeFunction(\n",
              "            'suggestCharts', [key], {});\n",
              "      } catch (error) {\n",
              "        console.error('Error during call to suggestCharts:', error);\n",
              "      }\n",
              "      quickchartButtonEl.classList.remove('colab-df-spinner');\n",
              "      quickchartButtonEl.classList.add('colab-df-quickchart-complete');\n",
              "    }\n",
              "    (() => {\n",
              "      let quickchartButtonEl =\n",
              "        document.querySelector('#df-9e61ec3a-a047-444b-945f-32de36ed07e8 button');\n",
              "      quickchartButtonEl.style.display =\n",
              "        google.colab.kernel.accessAllowed ? 'block' : 'none';\n",
              "    })();\n",
              "  </script>\n",
              "</div>\n",
              "    </div>\n",
              "  </div>\n"
            ]
          },
          "metadata": {},
          "execution_count": 14
        }
      ]
    },
    {
      "cell_type": "code",
      "source": [
        "def normalize_scores(scores):\n",
        "    min_score = min(scores, key=lambda x: x[2])[2]\n",
        "    max_score = max(scores, key=lambda x: x[2])[2]\n",
        "\n",
        "    return [[item[0], item[1], (item[2] - min_score) / (max_score - min_score)] for item in scores]"
      ],
      "metadata": {
        "id": "qdk_kIzt_17g"
      },
      "execution_count": null,
      "outputs": []
    },
    {
      "cell_type": "code",
      "source": [
        "from fuzzywuzzy import fuzz\n",
        "\n",
        "def keyword_search(input_str):\n",
        "    fuzz_pairs = []\n",
        "    semantic_pairs = []\n",
        "\n",
        "    for index, row in df.iterrows():\n",
        "        # string_tokens = row['Element'].lower().split()\n",
        "\n",
        "        fuzz_score = fuzz.partial_ratio(input_str, row['Element'])\n",
        "        semantic_score = word_vectors.n_similarity(input_str, row['Element'])\n",
        "        # semantic_score = semantic_match(input_str, row['Element'])\n",
        "\n",
        "        if not(len(row['Element']) < 5 and abs(len(row['Element']) - len(input_str)) > 4):\n",
        "            fuzz_pairs.append([row['Element'], row['Source'], fuzz_score])\n",
        "        semantic_pairs.append([row['Element'], row['Source'], int(semantic_score*100)])\n",
        "\n",
        "    fuzz_pairs = sorted(fuzz_pairs, key=lambda x: x[2], reverse=True)\n",
        "    semantic_pairs = sorted(semantic_pairs, key=lambda x: x[2], reverse=True)\n",
        "\n",
        "    fuzz_pairs = normalize_scores(fuzz_pairs)\n",
        "    semantic_pairs = normalize_scores(semantic_pairs)\n",
        "\n",
        "    return fuzz_pairs, semantic_pairs\n",
        "\n"
      ],
      "metadata": {
        "colab": {
          "base_uri": "https://localhost:8080/"
        },
        "id": "1m4AYvPIB1FJ",
        "outputId": "42aac2d3-4eff-4988-decc-64053e6992f8"
      },
      "execution_count": null,
      "outputs": [
        {
          "output_type": "stream",
          "name": "stderr",
          "text": [
            "/usr/local/lib/python3.10/dist-packages/fuzzywuzzy/fuzz.py:11: UserWarning: Using slow pure-python SequenceMatcher. Install python-Levenshtein to remove this warning\n",
            "  warnings.warn('Using slow pure-python SequenceMatcher. Install python-Levenshtein to remove this warning')\n"
          ]
        }
      ]
    },
    {
      "cell_type": "code",
      "source": [
        "def fetch_results(search_results, input_str):\n",
        "    offers = []\n",
        "\n",
        "    for item in search_results:\n",
        "        # print(item)\n",
        "\n",
        "        if item[1] == 'category_list':\n",
        "            brands = []\n",
        "            brands = list(df_brands[df_brands['BRAND_BELONGS_TO_CATEGORY'] == item[0]]['BRAND'])\n",
        "\n",
        "            for i in range(len(df_offers['BRAND'])):\n",
        "                if df_offers['BRAND'][i] in brands:\n",
        "                    offers.append(df_offers['OFFER'][i])\n",
        "\n",
        "        elif item[1] == 'brand_list':\n",
        "            for i in range(len(df_offers['BRAND'])):\n",
        "                if df_offers['BRAND'][i] == item[0]:\n",
        "                    offers.append(df_offers['OFFER'][i])\n",
        "\n",
        "        elif item[1] == 'retailer_list':\n",
        "            offers.extend(list(df_offers[df_offers['RETAILER'] == item[0]]['OFFER']))\n",
        "\n",
        "    for i in range(len(df_offers)):\n",
        "        if word_vectors.n_similarity(item[0], df_offers['OFFER_PREPROCESSED'][i]) > 0.97:\n",
        "            offers.append(df_offers['OFFER'][i])\n",
        "\n",
        "    # for i in range(len(offers)):\n",
        "\n",
        "    return list(set(offers))\n"
      ],
      "metadata": {
        "id": "VyPPL_HNh5nU"
      },
      "execution_count": null,
      "outputs": []
    },
    {
      "cell_type": "code",
      "source": [
        "df_offers"
      ],
      "metadata": {
        "id": "XD9qztjzcH9K"
      },
      "execution_count": null,
      "outputs": []
    },
    {
      "cell_type": "code",
      "source": [
        "# Example usage:\n",
        "INPUT_STRING = \"diapers\"  # Replace with your input string\n",
        "r1, r2 = keyword_search(INPUT_STRING)\n",
        "top_keywords = r1 + r2\n",
        "top_keywords = sorted(top_keywords, key=lambda x: x[2], reverse=True)\n"
      ],
      "metadata": {
        "id": "i2m9mMkHsrlb"
      },
      "execution_count": null,
      "outputs": []
    },
    {
      "cell_type": "code",
      "source": [
        "r1[:20]"
      ],
      "metadata": {
        "colab": {
          "base_uri": "https://localhost:8080/"
        },
        "id": "53FGLZiq_CQV",
        "outputId": "9c754ff7-444d-42e3-dfee-c3c2f393cf47"
      },
      "execution_count": null,
      "outputs": [
        {
          "output_type": "execute_result",
          "data": {
            "text/plain": [
              "[['diapering', 'category_list', 1.0],\n",
              " ['persil', 'brand_list', 0.9302325581395349],\n",
              " ['powers', 'brand_list', 0.9302325581395349],\n",
              " ['petrus', 'brand_list', 0.9302325581395349],\n",
              " ['apex', 'brand_list', 0.872093023255814],\n",
              " ['dial', 'brand_list', 0.872093023255814],\n",
              " ['jb raders', 'brand_list', 0.8488372093023255],\n",
              " ['kinders', 'brand_list', 0.8488372093023255],\n",
              " ['walders', 'brand_list', 0.8488372093023255],\n",
              " ['founders', 'brand_list', 0.8488372093023255],\n",
              " ['jks farmhouse ciders', 'brand_list', 0.8488372093023255],\n",
              " ['stem ciders', 'brand_list', 0.8488372093023255],\n",
              " ['marie callenders', 'brand_list', 0.8488372093023255],\n",
              " ['birch benders', 'brand_list', 0.8488372093023255],\n",
              " ['chex mix muddy buddies', 'brand_list', 0.8488372093023255],\n",
              " ['hungbloodies', 'brand_list', 0.8488372093023255],\n",
              " ['austin eastciders', 'brand_list', 0.8488372093023255],\n",
              " ['bar tenders', 'brand_list', 0.8488372093023255],\n",
              " ['graft green planet ciders', 'brand_list', 0.8488372093023255],\n",
              " ['blondies', 'brand_list', 0.8488372093023255]]"
            ]
          },
          "metadata": {},
          "execution_count": 32
        }
      ]
    },
    {
      "cell_type": "code",
      "source": [
        "r2[:20]"
      ],
      "metadata": {
        "colab": {
          "base_uri": "https://localhost:8080/"
        },
        "id": "JC52w9tS_ELw",
        "outputId": "65648534-0883-4aac-af2d-9b1f792c9f36"
      },
      "execution_count": null,
      "outputs": [
        {
          "output_type": "execute_result",
          "data": {
            "text/plain": [
              "[['paradise ciders', 'brand_list', 1.0],\n",
              " ['red stripe', 'brand_list', 0.9878048780487805],\n",
              " ['prairie pineapple upside down cake sour ale',\n",
              "  'brand_list',\n",
              "  0.975609756097561],\n",
              " ['cote de paradis', 'brand_list', 0.975609756097561],\n",
              " ['persil', 'brand_list', 0.975609756097561],\n",
              " ['wild state pineapple cider', 'brand_list', 0.975609756097561],\n",
              " ['superbird', 'brand_list', 0.975609756097561],\n",
              " ['sharpie', 'brand_list', 0.975609756097561],\n",
              " ['sierra nevada tropical torpedo ipa', 'brand_list', 0.975609756097561],\n",
              " ['somersby hard apple cider', 'brand_list', 0.975609756097561],\n",
              " ['piper heidsieck', 'brand_list', 0.975609756097561],\n",
              " ['mikes hard pineapple strawberry', 'brand_list', 0.975609756097561],\n",
              " ['striped pig distillery', 'brand_list', 0.975609756097561],\n",
              " ['freeland spirits', 'brand_list', 0.975609756097561],\n",
              " ['paradise island', 'brand_list', 0.975609756097561],\n",
              " ['pressure drop', 'brand_list', 0.975609756097561],\n",
              " ['pro pride', 'brand_list', 0.975609756097561],\n",
              " ['dog supplies', 'category_list', 0.9634146341463414],\n",
              " ['diapering', 'category_list', 0.9634146341463414],\n",
              " ['red pasta sauce', 'category_list', 0.9634146341463414]]"
            ]
          },
          "metadata": {},
          "execution_count": 33
        }
      ]
    },
    {
      "cell_type": "code",
      "source": [
        "ans = fetch_results(top_keywords[:50], INPUT_STRING)"
      ],
      "metadata": {
        "id": "idiN8PYOSaPs"
      },
      "execution_count": null,
      "outputs": []
    },
    {
      "cell_type": "code",
      "source": [
        "ans"
      ],
      "metadata": {
        "colab": {
          "base_uri": "https://localhost:8080/"
        },
        "id": "puM0pSZoaCw2",
        "outputId": "98074386-b9a3-4f76-ea25-7ca248d24041"
      },
      "execution_count": null,
      "outputs": [
        {
          "output_type": "execute_result",
          "data": {
            "text/plain": [
              "[\"Rao's®, Pasta OR Sauce, spend $10\",\n",
              " 'Kradle, select varieties, at Pet Supplies Plus',\n",
              " \"Michael Angelo's® OR Rao's® Frozen Entrees, spend $10\",\n",
              " 'Barilla® pasta, select varieties, buy 4',\n",
              " 'CESAR® Wet Dog Food Singles',\n",
              " \"Ben & Jerry's®, select varieties\",\n",
              " 'Kradle, select products, online at Chewy.com',\n",
              " \"Select Beverages AND Prepared Food Item at Casey's\",\n",
              " 'Barilla® Pasta, select varieties, buy 2',\n",
              " 'Butterball, select varieties, spend $10 at Fred Meyer',\n",
              " \"Rao's® Frozen Pizza\",\n",
              " 'Sargento Sliced Cheese, spend $12',\n",
              " 'Spend $5 on brisket mac & cheese sandwich OR other single-serve prepared food item',\n",
              " \"Breyers Reese's Ice Cream, select varieties, at GIANT OR MARTIN’S\",\n",
              " 'Perfect Keto Super Reds, online at Amazon',\n",
              " \"Spend $5 on single-serve prepared food items at Casey's\",\n",
              " \"Select beverages AND prepared food items at Casey's\",\n",
              " 'Purex® laundry detergent, select varieties, at Walmart',\n",
              " \"Ben & Jerry's®, select varieties, spend $12\",\n",
              " 'Kradle, select varieties, spend $20 at Walmart',\n",
              " 'Sara Lee® bread select varieties, buy 2',\n",
              " 'Barilla® pasta, select varieties, buy 2',\n",
              " 'Barilla® Pesto Sauce',\n",
              " 'Kradle, select varieties, online at Amazon',\n",
              " 'Barilla® pasta, select varieties, buy 3',\n",
              " 'Persil® ProClean®, select varieties, at Walmart',\n",
              " 'Sargento Sliced Cheese, spend $18',\n",
              " 'Sargento Sliced Cheese, spend $25',\n",
              " 'CESAR® Wet Dog Food, spend $20']"
            ]
          },
          "metadata": {},
          "execution_count": 35
        }
      ]
    },
    {
      "cell_type": "code",
      "source": [
        "len(set(ans))"
      ],
      "metadata": {
        "colab": {
          "base_uri": "https://localhost:8080/"
        },
        "id": "XD8fMsZBW7Ul",
        "outputId": "b1d18bd8-2cb0-43b6-aebb-66af59b3cf02"
      },
      "execution_count": null,
      "outputs": [
        {
          "output_type": "execute_result",
          "data": {
            "text/plain": [
              "63"
            ]
          },
          "metadata": {},
          "execution_count": 426
        }
      ]
    }
  ]
}